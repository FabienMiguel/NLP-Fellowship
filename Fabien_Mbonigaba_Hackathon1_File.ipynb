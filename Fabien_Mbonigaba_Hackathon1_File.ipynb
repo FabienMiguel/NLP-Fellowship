{
  "nbformat": 4,
  "nbformat_minor": 0,
  "metadata": {
    "colab": {
      "provenance": [],
      "collapsed_sections": [],
      "include_colab_link": true
    },
    "kernelspec": {
      "name": "python3",
      "display_name": "Python 3"
    },
    "language_info": {
      "name": "python"
    },
    "accelerator": "GPU",
    "gpuClass": "standard"
  },
  "cells": [
    {
      "cell_type": "markdown",
      "metadata": {
        "id": "view-in-github",
        "colab_type": "text"
      },
      "source": [
        "<a href=\"https://colab.research.google.com/github/FabienMiguel/NLP-Fellowship/blob/main/Fabien_Mbonigaba_Hackathon1_File.ipynb\" target=\"_parent\"><img src=\"https://colab.research.google.com/assets/colab-badge.svg\" alt=\"Open In Colab\"/></a>"
      ]
    },
    {
      "cell_type": "code",
      "source": [
        "!pip install fastapi pyngrok uvicorn nest-asyncio"
      ],
      "metadata": {
        "colab": {
          "base_uri": "https://localhost:8080/"
        },
        "id": "xOdQu9ICq3qE",
        "outputId": "d4c4940d-2890-4dc2-e522-fda1e8af8ea9"
      },
      "execution_count": 1,
      "outputs": [
        {
          "output_type": "stream",
          "name": "stdout",
          "text": [
            "Looking in indexes: https://pypi.org/simple, https://us-python.pkg.dev/colab-wheels/public/simple/\n",
            "Collecting fastapi\n",
            "  Downloading fastapi-0.86.0-py3-none-any.whl (55 kB)\n",
            "\u001b[K     |████████████████████████████████| 55 kB 2.0 MB/s \n",
            "\u001b[?25hCollecting pyngrok\n",
            "  Downloading pyngrok-5.1.0.tar.gz (745 kB)\n",
            "\u001b[K     |████████████████████████████████| 745 kB 7.6 MB/s \n",
            "\u001b[?25hCollecting uvicorn\n",
            "  Downloading uvicorn-0.19.0-py3-none-any.whl (56 kB)\n",
            "\u001b[K     |████████████████████████████████| 56 kB 4.5 MB/s \n",
            "\u001b[?25hCollecting nest-asyncio\n",
            "  Downloading nest_asyncio-1.5.6-py3-none-any.whl (5.2 kB)\n",
            "Collecting starlette==0.20.4\n",
            "  Downloading starlette-0.20.4-py3-none-any.whl (63 kB)\n",
            "\u001b[K     |████████████████████████████████| 63 kB 1.5 MB/s \n",
            "\u001b[?25hRequirement already satisfied: pydantic!=1.7,!=1.7.1,!=1.7.2,!=1.7.3,!=1.8,!=1.8.1,<2.0.0,>=1.6.2 in /usr/local/lib/python3.7/dist-packages (from fastapi) (1.10.2)\n",
            "Collecting anyio<5,>=3.4.0\n",
            "  Downloading anyio-3.6.2-py3-none-any.whl (80 kB)\n",
            "\u001b[K     |████████████████████████████████| 80 kB 5.8 MB/s \n",
            "\u001b[?25hRequirement already satisfied: typing-extensions>=3.10.0 in /usr/local/lib/python3.7/dist-packages (from starlette==0.20.4->fastapi) (4.1.1)\n",
            "Collecting sniffio>=1.1\n",
            "  Downloading sniffio-1.3.0-py3-none-any.whl (10 kB)\n",
            "Requirement already satisfied: idna>=2.8 in /usr/local/lib/python3.7/dist-packages (from anyio<5,>=3.4.0->starlette==0.20.4->fastapi) (2.10)\n",
            "Requirement already satisfied: PyYAML in /usr/local/lib/python3.7/dist-packages (from pyngrok) (6.0)\n",
            "Collecting h11>=0.8\n",
            "  Downloading h11-0.14.0-py3-none-any.whl (58 kB)\n",
            "\u001b[K     |████████████████████████████████| 58 kB 5.4 MB/s \n",
            "\u001b[?25hRequirement already satisfied: click>=7.0 in /usr/local/lib/python3.7/dist-packages (from uvicorn) (7.1.2)\n",
            "Building wheels for collected packages: pyngrok\n",
            "  Building wheel for pyngrok (setup.py) ... \u001b[?25l\u001b[?25hdone\n",
            "  Created wheel for pyngrok: filename=pyngrok-5.1.0-py3-none-any.whl size=19007 sha256=892d832ab42d287125cb7c7e1c04f63afd2816e67566ac785f7a74b89d2bd530\n",
            "  Stored in directory: /root/.cache/pip/wheels/bf/e6/af/ccf6598ecefecd44104069371795cb9b3afbcd16987f6ccfb3\n",
            "Successfully built pyngrok\n",
            "Installing collected packages: sniffio, anyio, starlette, h11, uvicorn, pyngrok, nest-asyncio, fastapi\n",
            "Successfully installed anyio-3.6.2 fastapi-0.86.0 h11-0.14.0 nest-asyncio-1.5.6 pyngrok-5.1.0 sniffio-1.3.0 starlette-0.20.4 uvicorn-0.19.0\n"
          ]
        }
      ]
    },
    {
      "cell_type": "code",
      "source": [
        "!pip install -U easynmt"
      ],
      "metadata": {
        "colab": {
          "base_uri": "https://localhost:8080/"
        },
        "id": "CfHeD3snrZ-R",
        "outputId": "9342adbf-bfbf-497d-bcd6-b79a7a456415"
      },
      "execution_count": 2,
      "outputs": [
        {
          "output_type": "stream",
          "name": "stdout",
          "text": [
            "Looking in indexes: https://pypi.org/simple, https://us-python.pkg.dev/colab-wheels/public/simple/\n",
            "Collecting easynmt\n",
            "  Downloading EasyNMT-2.0.2.tar.gz (23 kB)\n",
            "Requirement already satisfied: tqdm in /usr/local/lib/python3.7/dist-packages (from easynmt) (4.64.1)\n",
            "Collecting transformers<5,>=4.4\n",
            "  Downloading transformers-4.24.0-py3-none-any.whl (5.5 MB)\n",
            "\u001b[K     |████████████████████████████████| 5.5 MB 5.5 MB/s \n",
            "\u001b[?25hRequirement already satisfied: torch>=1.6.0 in /usr/local/lib/python3.7/dist-packages (from easynmt) (1.12.1+cu113)\n",
            "Requirement already satisfied: numpy in /usr/local/lib/python3.7/dist-packages (from easynmt) (1.21.6)\n",
            "Requirement already satisfied: nltk in /usr/local/lib/python3.7/dist-packages (from easynmt) (3.7)\n",
            "Collecting sentencepiece\n",
            "  Downloading sentencepiece-0.1.97-cp37-cp37m-manylinux_2_17_x86_64.manylinux2014_x86_64.whl (1.3 MB)\n",
            "\u001b[K     |████████████████████████████████| 1.3 MB 45.4 MB/s \n",
            "\u001b[?25hCollecting fasttext\n",
            "  Downloading fasttext-0.9.2.tar.gz (68 kB)\n",
            "\u001b[K     |████████████████████████████████| 68 kB 5.4 MB/s \n",
            "\u001b[?25hRequirement already satisfied: protobuf in /usr/local/lib/python3.7/dist-packages (from easynmt) (3.19.6)\n",
            "Requirement already satisfied: typing-extensions in /usr/local/lib/python3.7/dist-packages (from torch>=1.6.0->easynmt) (4.1.1)\n",
            "Requirement already satisfied: filelock in /usr/local/lib/python3.7/dist-packages (from transformers<5,>=4.4->easynmt) (3.8.0)\n",
            "Requirement already satisfied: requests in /usr/local/lib/python3.7/dist-packages (from transformers<5,>=4.4->easynmt) (2.23.0)\n",
            "Requirement already satisfied: regex!=2019.12.17 in /usr/local/lib/python3.7/dist-packages (from transformers<5,>=4.4->easynmt) (2022.6.2)\n",
            "Requirement already satisfied: packaging>=20.0 in /usr/local/lib/python3.7/dist-packages (from transformers<5,>=4.4->easynmt) (21.3)\n",
            "Requirement already satisfied: pyyaml>=5.1 in /usr/local/lib/python3.7/dist-packages (from transformers<5,>=4.4->easynmt) (6.0)\n",
            "Collecting huggingface-hub<1.0,>=0.10.0\n",
            "  Downloading huggingface_hub-0.10.1-py3-none-any.whl (163 kB)\n",
            "\u001b[K     |████████████████████████████████| 163 kB 53.7 MB/s \n",
            "\u001b[?25hCollecting tokenizers!=0.11.3,<0.14,>=0.11.1\n",
            "  Downloading tokenizers-0.13.2-cp37-cp37m-manylinux_2_17_x86_64.manylinux2014_x86_64.whl (7.6 MB)\n",
            "\u001b[K     |████████████████████████████████| 7.6 MB 33.8 MB/s \n",
            "\u001b[?25hRequirement already satisfied: importlib-metadata in /usr/local/lib/python3.7/dist-packages (from transformers<5,>=4.4->easynmt) (4.13.0)\n",
            "Requirement already satisfied: pyparsing!=3.0.5,>=2.0.2 in /usr/local/lib/python3.7/dist-packages (from packaging>=20.0->transformers<5,>=4.4->easynmt) (3.0.9)\n",
            "Collecting pybind11>=2.2\n",
            "  Using cached pybind11-2.10.1-py3-none-any.whl (216 kB)\n",
            "Requirement already satisfied: setuptools>=0.7.0 in /usr/local/lib/python3.7/dist-packages (from fasttext->easynmt) (57.4.0)\n",
            "Requirement already satisfied: zipp>=0.5 in /usr/local/lib/python3.7/dist-packages (from importlib-metadata->transformers<5,>=4.4->easynmt) (3.10.0)\n",
            "Requirement already satisfied: joblib in /usr/local/lib/python3.7/dist-packages (from nltk->easynmt) (1.2.0)\n",
            "Requirement already satisfied: click in /usr/local/lib/python3.7/dist-packages (from nltk->easynmt) (7.1.2)\n",
            "Requirement already satisfied: urllib3!=1.25.0,!=1.25.1,<1.26,>=1.21.1 in /usr/local/lib/python3.7/dist-packages (from requests->transformers<5,>=4.4->easynmt) (1.24.3)\n",
            "Requirement already satisfied: chardet<4,>=3.0.2 in /usr/local/lib/python3.7/dist-packages (from requests->transformers<5,>=4.4->easynmt) (3.0.4)\n",
            "Requirement already satisfied: certifi>=2017.4.17 in /usr/local/lib/python3.7/dist-packages (from requests->transformers<5,>=4.4->easynmt) (2022.9.24)\n",
            "Requirement already satisfied: idna<3,>=2.5 in /usr/local/lib/python3.7/dist-packages (from requests->transformers<5,>=4.4->easynmt) (2.10)\n",
            "Building wheels for collected packages: easynmt, fasttext\n",
            "  Building wheel for easynmt (setup.py) ... \u001b[?25l\u001b[?25hdone\n",
            "  Created wheel for easynmt: filename=EasyNMT-2.0.2-py3-none-any.whl size=19919 sha256=fc4fc80d343b55b6d3e85a937a31b7381fe2252f52c0bddfb8fe6d15b9553f92\n",
            "  Stored in directory: /root/.cache/pip/wheels/d1/57/06/53ca38645e14d4537a41e5a36da2026e10f54ae88240dd5190\n",
            "  Building wheel for fasttext (setup.py) ... \u001b[?25l\u001b[?25hdone\n",
            "  Created wheel for fasttext: filename=fasttext-0.9.2-cp37-cp37m-linux_x86_64.whl size=3164375 sha256=4e47356fe7e45e872567bccb6234f5435cd3b2378218625343a2263336cd49fc\n",
            "  Stored in directory: /root/.cache/pip/wheels/4e/ca/bf/b020d2be95f7641801a6597a29c8f4f19e38f9c02a345bab9b\n",
            "Successfully built easynmt fasttext\n",
            "Installing collected packages: tokenizers, pybind11, huggingface-hub, transformers, sentencepiece, fasttext, easynmt\n",
            "Successfully installed easynmt-2.0.2 fasttext-0.9.2 huggingface-hub-0.10.1 pybind11-2.10.1 sentencepiece-0.1.97 tokenizers-0.13.2 transformers-4.24.0\n"
          ]
        }
      ]
    },
    {
      "cell_type": "code",
      "execution_count": null,
      "metadata": {
        "id": "JbmBYNEFB7uY"
      },
      "outputs": [],
      "source": [
        "import requests\n",
        "from bs4 import BeautifulSoup\n",
        "import pandas as pd\n",
        "import re\n",
        "from fastapi import FastAPI, Response\n",
        "from pyngrok import ngrok\n",
        "import nest_asyncio\n",
        "import uvicorn\n",
        "from starlette.responses import HTMLResponse\n",
        "import json\n",
        "from easynmt import EasyNMT"
      ]
    },
    {
      "cell_type": "code",
      "source": [
        "# set authentication for ngrok\n",
        "!ngrok authtoken 2HJQ5KFUMPejTBPPFOQGP2WRU74_o2vYuu2ZQcGb3zYD6ziq"
      ],
      "metadata": {
        "id": "P1hMhWytr6ec"
      },
      "execution_count": null,
      "outputs": []
    },
    {
      "cell_type": "code",
      "source": [
        "from google.colab import drive\n",
        "drive.mount('/content/drive')"
      ],
      "metadata": {
        "id": "6y2Tr-VGWTzQ"
      },
      "execution_count": null,
      "outputs": []
    },
    {
      "cell_type": "markdown",
      "source": [
        "#Web scrapping JobinRwanda.com"
      ],
      "metadata": {
        "id": "gN8CLWoJwnB6"
      }
    },
    {
      "cell_type": "code",
      "source": [
        "# SOUP\n",
        "link = 'https://www.jobinrwanda.com/jobs/featured'\n",
        "soup = BeautifulSoup(requests.get(link).content, 'html.parser')"
      ],
      "metadata": {
        "id": "FPq2kkfZCYLJ"
      },
      "execution_count": null,
      "outputs": []
    },
    {
      "cell_type": "code",
      "source": [
        "# LINKS OF ALL FEATURED CONTENT ON WEB\n",
        "# job title\n",
        "job_titles = {}\n",
        "\n",
        "divs = soup.find_all('div', class_ = 'card-body p-2')\n",
        "f_links = [] # this is featured links da means it contain all links from(jobs,tenders, and consultancy)\n",
        "\n",
        "for index,div in enumerate(divs):\n",
        "  anchor = div.find('a')\n",
        "  found_link = 'https://www.jobinrwanda.com'+anchor['href']\n",
        "  job_titles[index] = anchor.find('h5', class_ = 'card-title').get_text()\n",
        "  f_links.append(found_link)\n",
        "job_titles = list(job_titles.values())"
      ],
      "metadata": {
        "id": "JN5sXNmQxMGG"
      },
      "execution_count": null,
      "outputs": []
    },
    {
      "cell_type": "code",
      "source": [
        "job_titles"
      ],
      "metadata": {
        "id": "rThpjx3oQDQQ"
      },
      "execution_count": null,
      "outputs": []
    },
    {
      "cell_type": "code",
      "source": [
        "# EACH LINK SOUP\n",
        "l_soups = {}\n",
        "for index,link in enumerate(f_links):\n",
        "  SOUP = BeautifulSoup(requests.get(link).content, 'html.parser')\n",
        "  l_soups[index] = SOUP"
      ],
      "metadata": {
        "id": "BCRSt5nxCOwI"
      },
      "execution_count": null,
      "outputs": []
    },
    {
      "cell_type": "code",
      "source": [
        "# DIVS FOR EACH FEATURE CONTENT\n",
        "content_divs = {}\n",
        "job_info = {}\n",
        "for index,soup1 in enumerate(list(l_soups.values())):\n",
        "  content_divs[index] = soup1.find('div', class_ = 'clearfix text-formatted field field--name-field-job-full-description field--type-text-long field--label-hidden field__item')\n",
        "  ul = soup1.find('ul', class_ = 'list-group list-group-flush')\n",
        "  lists = {}\n",
        "  for li in ul.children:\n",
        "    try:\n",
        "      info = re.sub('\\s{2,}|\\n',' ',li.text) # both key and value together as str\n",
        "      # separate key & value to get key:value dictionary\n",
        "      if not 'apply' in info.lower():\n",
        "        if 'viewed' in info:\n",
        "          times = re.search('\\d+', info).group()\n",
        "          lists['views'] = times\n",
        "        else:\n",
        "          k,value = re.split(':', info)[:2]\n",
        "          lists[k.lstrip()] = value\n",
        "    except AttributeError:\n",
        "      pass\n",
        "  job_info[index] = lists\n"
      ],
      "metadata": {
        "id": "lqlsLuwW0Y0V"
      },
      "execution_count": null,
      "outputs": []
    },
    {
      "cell_type": "code",
      "source": [
        "# COMBINATION OF FULL CONTENT OF EACH FEATURE(jobs,tenders, and consultancy)\n",
        "full_content = {}\n",
        "for index,div in enumerate(list(content_divs.values())):\n",
        "  one_div_content = []\n",
        "  for para in div.find_all('p', class_ = 'text-align-justify'):\n",
        "    one_div_content.append(para.get_text())\n",
        "  full_content[index] = re.sub('\\n|\\\\xa0','','\\n'.join(one_div_content))  # use regex to clean unwanted stuff in my text content"
      ],
      "metadata": {
        "id": "01HGW59h1pFo"
      },
      "execution_count": null,
      "outputs": []
    },
    {
      "cell_type": "code",
      "source": [
        "full_content "
      ],
      "metadata": {
        "id": "9ilX4ilnITBp"
      },
      "execution_count": null,
      "outputs": []
    },
    {
      "cell_type": "code",
      "source": [
        "#[['location: Kigali','views','job des','feature 1 content'],['feature 2'],[],[]]\n",
        "final = []\n",
        "for index in list(content_divs.keys()):\n",
        "  index_info = list(job_info[index].values())\n",
        "  index_text = [full_content[index]]\n",
        "  final.append(index_info + index_text)\n",
        "final\n"
      ],
      "metadata": {
        "id": "ieo8mdHS13xL"
      },
      "execution_count": null,
      "outputs": []
    },
    {
      "cell_type": "code",
      "source": [
        "columns = list(job_info[0].keys()) + ['Description']\n",
        "len(columns)"
      ],
      "metadata": {
        "id": "-R346CChJLIQ"
      },
      "execution_count": null,
      "outputs": []
    },
    {
      "cell_type": "code",
      "source": [
        "dataframe = pd.DataFrame(final, columns = columns)"
      ],
      "metadata": {
        "id": "wI7aVQ2lLcRM"
      },
      "execution_count": null,
      "outputs": []
    },
    {
      "cell_type": "code",
      "source": [
        "dataframe['job title'] = job_titles"
      ],
      "metadata": {
        "id": "3vFXvZDpQX8A"
      },
      "execution_count": null,
      "outputs": []
    },
    {
      "cell_type": "code",
      "source": [
        "dataframe['job title'] = dataframe['job title'].str.replace('\\n','',regex=True).astype('str')"
      ],
      "metadata": {
        "id": "trUnPleLHs1g"
      },
      "execution_count": null,
      "outputs": []
    },
    {
      "cell_type": "code",
      "source": [
        "only_IT_jobs = dataframe.copy()\n",
        "only_IT_jobs['is IT job'] = False\n",
        "\n",
        "for index in range(len(only_IT_jobs)):\n",
        "  if re.findall('Computer|IT|Software', only_IT_jobs.iloc[index]['Sector']):\n",
        "    only_IT_jobs['is IT job'][index] = True"
      ],
      "metadata": {
        "id": "kASSWLtSULIu"
      },
      "execution_count": null,
      "outputs": []
    },
    {
      "cell_type": "code",
      "source": [
        "only_IT_jobs = only_IT_jobs[only_IT_jobs['is IT job'] == True]   # filter for the IT job"
      ],
      "metadata": {
        "id": "P8s8XQg6XoqU"
      },
      "execution_count": null,
      "outputs": []
    },
    {
      "cell_type": "code",
      "source": [
        "only_IT_jobs"
      ],
      "metadata": {
        "id": "YeGHOAAQZLFZ"
      },
      "execution_count": null,
      "outputs": []
    },
    {
      "cell_type": "markdown",
      "source": [
        "# Webscrapping Umucyo.com"
      ],
      "metadata": {
        "id": "gU478F3vbcVu"
      }
    },
    {
      "cell_type": "code",
      "source": [
        "#use view source code tool to fetch HTML page Soup\n",
        "url = 'https://www.umucyo.gov.rw/eb/bav/selectListAdvertisingListForGU.do'\n",
        "umucyo_soup = BeautifulSoup(requests.get(url).content, 'html.parser')\n",
        "table = umucyo_soup.find('table', class_ = 'article_table mb10')"
      ],
      "metadata": {
        "id": "t5Ivmgdjbbis"
      },
      "execution_count": null,
      "outputs": []
    },
    {
      "cell_type": "code",
      "source": [
        "head_row = table.find('thead').find('tr')\n",
        "titles = []\n",
        "for th in head_row.find_all('th'):\n",
        "  titles.append(re.sub('\\r|\\n|\\t','',th.text)) #using regx to clean my table titles\n",
        "titles = titles[1:]"
      ],
      "metadata": {
        "id": "2TOfd6QrcRmc"
      },
      "execution_count": 47,
      "outputs": []
    },
    {
      "cell_type": "code",
      "source": [
        "titles"
      ],
      "metadata": {
        "id": "bC2OIqXDdRur"
      },
      "execution_count": null,
      "outputs": []
    },
    {
      "cell_type": "code",
      "source": [
        "# table body\n",
        "body_rows = table.find('tbody').find_all('tr') \n",
        "full_data = []\n",
        "for row in body_rows:\n",
        "  ls = []\n",
        "  for detail in row.find_all('td'):\n",
        "    ls.append(re.sub('\\n|\\r|\\t|\\s', '',detail.text))  #using regx to clean unwanted spaces and other stuff in my list\n",
        "  full_data.append(ls[1:])\n"
      ],
      "metadata": {
        "id": "S5Bjm8n1d3c2"
      },
      "execution_count": 45,
      "outputs": []
    },
    {
      "cell_type": "code",
      "source": [
        "full_data"
      ],
      "metadata": {
        "id": "KXmbptISfKW1"
      },
      "execution_count": null,
      "outputs": []
    },
    {
      "cell_type": "code",
      "source": [
        "umucyo_df = pd.DataFrame(full_data, columns = titles)"
      ],
      "metadata": {
        "id": "_Nb7INlcft7X"
      },
      "execution_count": null,
      "outputs": []
    },
    {
      "cell_type": "code",
      "source": [
        "umucyo_df.head(10)"
      ],
      "metadata": {
        "id": "pD93YRn8f6s5"
      },
      "execution_count": null,
      "outputs": []
    },
    {
      "cell_type": "markdown",
      "source": [
        "#Dataframe translation in 50+ Languanges"
      ],
      "metadata": {
        "id": "TNcQzor1p8Gs"
      }
    },
    {
      "cell_type": "code",
      "source": [
        "only_IT_jobs.head()"
      ],
      "metadata": {
        "id": "h-7Xjr_ARLT_"
      },
      "execution_count": null,
      "outputs": []
    },
    {
      "cell_type": "code",
      "source": [
        "# Make api and start translate!\n",
        "\n",
        "model = EasyNMT('opus-mt')\n",
        "app = FastAPI(title = 'my application api')\n",
        "prev = 'en'\n",
        "@app.get('/pass')\n",
        "def do(lang:str='', orient:str='index'):\n",
        "  global prev\n",
        "  try:\n",
        "    for index in range(len(only_IT_jobs)):\n",
        "      only_IT_jobs['job title'][index] = model.translate(only_IT_jobs.iloc[index]['job title'], source_lang = prev, target_lang = lang)\n",
        "      only_IT_jobs['Description'][index] = model.translate(only_IT_jobs.iloc[index]['Description'], source_lang = prev, target_lang = lang)\n",
        "      prev = str(lang)\n",
        "    return Response(only_IT_jobs.to_json(orient = orient), media_type = 'application/json')\n",
        "  except:\n",
        "    pass"
      ],
      "metadata": {
        "id": "vMROGyGJIO7T"
      },
      "execution_count": 41,
      "outputs": []
    },
    {
      "cell_type": "code",
      "source": [
        "# show all IT jobs\n",
        "\n",
        "@app.get('/itjobs')\n",
        "def show(orient:str='index'):\n",
        "    return Response(only_IT_jobs.to_json(orient = orient), media_type = 'application/json')"
      ],
      "metadata": {
        "id": "Cqxpr6ExIeoO"
      },
      "execution_count": 42,
      "outputs": []
    },
    {
      "cell_type": "code",
      "source": [
        "# show all information from jobinrwanda\n",
        "@app.get('/jobinrwanda_all')\n",
        "def showall(orient:str='index'):\n",
        "    return Response(dataframe.to_json(orient = orient), media_type = 'application/json')"
      ],
      "metadata": {
        "id": "1lDRVFEdFhd1"
      },
      "execution_count": 43,
      "outputs": []
    },
    {
      "cell_type": "code",
      "source": [
        "# show all information retrieved from umucyo\n",
        "@app.get('/umucyo_all')\n",
        "def show_umucyo(orient:str='index'):\n",
        "    return Response(umucyo_df.to_json(orient = orient), media_type = 'application/json')"
      ],
      "metadata": {
        "id": "EJMkMhJkFoZp"
      },
      "execution_count": null,
      "outputs": []
    },
    {
      "cell_type": "code",
      "source": [
        "tunnel = ngrok.connect(8000)\n",
        "print(\"PUBLIC URL: \", tunnel.public_url)\n",
        "nest_asyncio.apply()\n",
        "uvicorn.run(app, port = 8000)"
      ],
      "metadata": {
        "id": "xp6x2pcKKv80"
      },
      "execution_count": null,
      "outputs": []
    }
  ]
}