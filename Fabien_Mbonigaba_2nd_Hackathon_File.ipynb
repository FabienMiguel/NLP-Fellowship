{
  "nbformat": 4,
  "nbformat_minor": 0,
  "metadata": {
    "colab": {
      "provenance": [],
      "include_colab_link": true
    },
    "kernelspec": {
      "name": "python3",
      "display_name": "Python 3"
    },
    "language_info": {
      "name": "python"
    }
  },
  "cells": [
    {
      "cell_type": "markdown",
      "metadata": {
        "id": "view-in-github",
        "colab_type": "text"
      },
      "source": [
        "<a href=\"https://colab.research.google.com/github/FabienMiguel/NLP-Fellowship/blob/main/Fabien_Mbonigaba_2nd_Hackathon_File.ipynb\" target=\"_parent\"><img src=\"https://colab.research.google.com/assets/colab-badge.svg\" alt=\"Open In Colab\"/></a>"
      ]
    },
    {
      "cell_type": "markdown",
      "source": [
        "***Firstly, I do Web Scrapping website to get data I choose(RURA)***"
      ],
      "metadata": {
        "id": "HGLk_K0ykIVN"
      }
    },
    {
      "cell_type": "code",
      "execution_count": 11,
      "metadata": {
        "id": "raDBPHef0_va"
      },
      "outputs": [],
      "source": [
        "import requests\n",
        "from bs4 import BeautifulSoup\n",
        "import pandas as pd"
      ]
    },
    {
      "cell_type": "code",
      "source": [
        "# This cell is for fetching content from the home page \n",
        "\n",
        "url = 'https://rura.rw/index.php'\n",
        "response = requests.get(url)\n",
        "html = response.content\n",
        "\n",
        "soup = BeautifulSoup(html, 'html.parser')\n",
        "soup\n"
      ],
      "metadata": {
        "id": "HsQmYuAdlaop"
      },
      "execution_count": null,
      "outputs": []
    },
    {
      "cell_type": "code",
      "source": [
        "# This cell is for getting all links in the website\n",
        "\n",
        "links = soup.find_all('a')\n",
        "links"
      ],
      "metadata": {
        "id": "rSR0TL0NmBHG"
      },
      "execution_count": null,
      "outputs": []
    },
    {
      "cell_type": "code",
      "source": [
        "index = -30\n",
        "link = links[index]['href'] #Get the link\n",
        "title = links[index].text #Save the description\n",
        "print('Link:', link, 'Described as:', title)"
      ],
      "metadata": {
        "id": "lhxspn1tmn4t"
      },
      "execution_count": null,
      "outputs": []
    },
    {
      "cell_type": "code",
      "source": [
        "all_links = [] #list()\n",
        "list_of_titles = []\n",
        "\n",
        "for item in links: #loop over the list of links\n",
        "  if str(item['href'])[0:9] == 'index.php':\n",
        "    lin = 'https://rura.rw/' + item['href']\n",
        "  else:\n",
        "    lin = item['href']\n",
        "\n",
        "  all_links.append(lin)\n",
        "  if len(item.text) > 0:\n",
        "    list_of_titles.append(item.text)\n",
        "  else:\n",
        "    list_of_titles.append(None)"
      ],
      "metadata": {
        "id": "IcnoYNpkoHn3"
      },
      "execution_count": 16,
      "outputs": []
    },
    {
      "cell_type": "code",
      "source": [
        "df = pd.DataFrame()\n",
        "df['title'] = list_of_titles\n",
        "df['link'] = all_links\n",
        "df['description'] = None"
      ],
      "metadata": {
        "id": "lOKzH-1krvSN"
      },
      "execution_count": 17,
      "outputs": []
    },
    {
      "cell_type": "code",
      "source": [
        "all_links"
      ],
      "metadata": {
        "id": "UFha7389rzge"
      },
      "execution_count": null,
      "outputs": []
    },
    {
      "cell_type": "code",
      "source": [
        "# This cell is for dataframe\n",
        "\n",
        "df.describe()"
      ],
      "metadata": {
        "id": "znNIDUXar9zP"
      },
      "execution_count": null,
      "outputs": []
    },
    {
      "cell_type": "code",
      "source": [
        "# drop all the row with empty title\n",
        "df = df.dropna(subset=['title']) \n",
        "df"
      ],
      "metadata": {
        "colab": {
          "base_uri": "https://localhost:8080/",
          "height": 423
        },
        "id": "x3OcUYubs37U",
        "outputId": "231a8c85-399f-42ec-e3b0-94626de56847"
      },
      "execution_count": 20,
      "outputs": [
        {
          "output_type": "execute_result",
          "data": {
            "text/plain": [
              "                                                 title  \\\n",
              "0    business plan to buy an apartment building wri...   \n",
              "1           business plan to buy an apartment building   \n",
              "2           writing a good abstract for research paper   \n",
              "3                               statement of admission   \n",
              "10                                                Home   \n",
              "..                                                 ...   \n",
              "171                             Regulatory instruments   \n",
              "172                                    Sector  Reports   \n",
              "173                                         Statistics   \n",
              "174                                               FAQs   \n",
              "175                                All Online Services   \n",
              "\n",
              "                                                  link description  \n",
              "0                                                    #        None  \n",
              "1    http://rura.rw/?business-plan-to-buy-an-apartm...        None  \n",
              "2    http://rura.rw/?writing-a-good-abstract-for-re...        None  \n",
              "3               http://rura.rw/?statement-of-admission        None  \n",
              "10                     https://rura.rw/index.php?id=23        None  \n",
              "..                                                 ...         ...  \n",
              "171                   https://rura.rw/index.php?id=179        None  \n",
              "172                   https://rura.rw/index.php?id=185        None  \n",
              "173                    https://rura.rw/index.php?id=86        None  \n",
              "174                    https://rura.rw/index.php?id=88        None  \n",
              "175                         https://licensing.rura.rw/        None  \n",
              "\n",
              "[170 rows x 3 columns]"
            ],
            "text/html": [
              "\n",
              "  <div id=\"df-243c8be7-4b22-4300-b64a-2de879bb6c8b\">\n",
              "    <div class=\"colab-df-container\">\n",
              "      <div>\n",
              "<style scoped>\n",
              "    .dataframe tbody tr th:only-of-type {\n",
              "        vertical-align: middle;\n",
              "    }\n",
              "\n",
              "    .dataframe tbody tr th {\n",
              "        vertical-align: top;\n",
              "    }\n",
              "\n",
              "    .dataframe thead th {\n",
              "        text-align: right;\n",
              "    }\n",
              "</style>\n",
              "<table border=\"1\" class=\"dataframe\">\n",
              "  <thead>\n",
              "    <tr style=\"text-align: right;\">\n",
              "      <th></th>\n",
              "      <th>title</th>\n",
              "      <th>link</th>\n",
              "      <th>description</th>\n",
              "    </tr>\n",
              "  </thead>\n",
              "  <tbody>\n",
              "    <tr>\n",
              "      <th>0</th>\n",
              "      <td>business plan to buy an apartment building wri...</td>\n",
              "      <td>#</td>\n",
              "      <td>None</td>\n",
              "    </tr>\n",
              "    <tr>\n",
              "      <th>1</th>\n",
              "      <td>business plan to buy an apartment building</td>\n",
              "      <td>http://rura.rw/?business-plan-to-buy-an-apartm...</td>\n",
              "      <td>None</td>\n",
              "    </tr>\n",
              "    <tr>\n",
              "      <th>2</th>\n",
              "      <td>writing a good abstract for research paper</td>\n",
              "      <td>http://rura.rw/?writing-a-good-abstract-for-re...</td>\n",
              "      <td>None</td>\n",
              "    </tr>\n",
              "    <tr>\n",
              "      <th>3</th>\n",
              "      <td>statement of admission</td>\n",
              "      <td>http://rura.rw/?statement-of-admission</td>\n",
              "      <td>None</td>\n",
              "    </tr>\n",
              "    <tr>\n",
              "      <th>10</th>\n",
              "      <td>Home</td>\n",
              "      <td>https://rura.rw/index.php?id=23</td>\n",
              "      <td>None</td>\n",
              "    </tr>\n",
              "    <tr>\n",
              "      <th>...</th>\n",
              "      <td>...</td>\n",
              "      <td>...</td>\n",
              "      <td>...</td>\n",
              "    </tr>\n",
              "    <tr>\n",
              "      <th>171</th>\n",
              "      <td>Regulatory instruments</td>\n",
              "      <td>https://rura.rw/index.php?id=179</td>\n",
              "      <td>None</td>\n",
              "    </tr>\n",
              "    <tr>\n",
              "      <th>172</th>\n",
              "      <td>Sector  Reports</td>\n",
              "      <td>https://rura.rw/index.php?id=185</td>\n",
              "      <td>None</td>\n",
              "    </tr>\n",
              "    <tr>\n",
              "      <th>173</th>\n",
              "      <td>Statistics</td>\n",
              "      <td>https://rura.rw/index.php?id=86</td>\n",
              "      <td>None</td>\n",
              "    </tr>\n",
              "    <tr>\n",
              "      <th>174</th>\n",
              "      <td>FAQs</td>\n",
              "      <td>https://rura.rw/index.php?id=88</td>\n",
              "      <td>None</td>\n",
              "    </tr>\n",
              "    <tr>\n",
              "      <th>175</th>\n",
              "      <td>All Online Services</td>\n",
              "      <td>https://licensing.rura.rw/</td>\n",
              "      <td>None</td>\n",
              "    </tr>\n",
              "  </tbody>\n",
              "</table>\n",
              "<p>170 rows × 3 columns</p>\n",
              "</div>\n",
              "      <button class=\"colab-df-convert\" onclick=\"convertToInteractive('df-243c8be7-4b22-4300-b64a-2de879bb6c8b')\"\n",
              "              title=\"Convert this dataframe to an interactive table.\"\n",
              "              style=\"display:none;\">\n",
              "        \n",
              "  <svg xmlns=\"http://www.w3.org/2000/svg\" height=\"24px\"viewBox=\"0 0 24 24\"\n",
              "       width=\"24px\">\n",
              "    <path d=\"M0 0h24v24H0V0z\" fill=\"none\"/>\n",
              "    <path d=\"M18.56 5.44l.94 2.06.94-2.06 2.06-.94-2.06-.94-.94-2.06-.94 2.06-2.06.94zm-11 1L8.5 8.5l.94-2.06 2.06-.94-2.06-.94L8.5 2.5l-.94 2.06-2.06.94zm10 10l.94 2.06.94-2.06 2.06-.94-2.06-.94-.94-2.06-.94 2.06-2.06.94z\"/><path d=\"M17.41 7.96l-1.37-1.37c-.4-.4-.92-.59-1.43-.59-.52 0-1.04.2-1.43.59L10.3 9.45l-7.72 7.72c-.78.78-.78 2.05 0 2.83L4 21.41c.39.39.9.59 1.41.59.51 0 1.02-.2 1.41-.59l7.78-7.78 2.81-2.81c.8-.78.8-2.07 0-2.86zM5.41 20L4 18.59l7.72-7.72 1.47 1.35L5.41 20z\"/>\n",
              "  </svg>\n",
              "      </button>\n",
              "      \n",
              "  <style>\n",
              "    .colab-df-container {\n",
              "      display:flex;\n",
              "      flex-wrap:wrap;\n",
              "      gap: 12px;\n",
              "    }\n",
              "\n",
              "    .colab-df-convert {\n",
              "      background-color: #E8F0FE;\n",
              "      border: none;\n",
              "      border-radius: 50%;\n",
              "      cursor: pointer;\n",
              "      display: none;\n",
              "      fill: #1967D2;\n",
              "      height: 32px;\n",
              "      padding: 0 0 0 0;\n",
              "      width: 32px;\n",
              "    }\n",
              "\n",
              "    .colab-df-convert:hover {\n",
              "      background-color: #E2EBFA;\n",
              "      box-shadow: 0px 1px 2px rgba(60, 64, 67, 0.3), 0px 1px 3px 1px rgba(60, 64, 67, 0.15);\n",
              "      fill: #174EA6;\n",
              "    }\n",
              "\n",
              "    [theme=dark] .colab-df-convert {\n",
              "      background-color: #3B4455;\n",
              "      fill: #D2E3FC;\n",
              "    }\n",
              "\n",
              "    [theme=dark] .colab-df-convert:hover {\n",
              "      background-color: #434B5C;\n",
              "      box-shadow: 0px 1px 3px 1px rgba(0, 0, 0, 0.15);\n",
              "      filter: drop-shadow(0px 1px 2px rgba(0, 0, 0, 0.3));\n",
              "      fill: #FFFFFF;\n",
              "    }\n",
              "  </style>\n",
              "\n",
              "      <script>\n",
              "        const buttonEl =\n",
              "          document.querySelector('#df-243c8be7-4b22-4300-b64a-2de879bb6c8b button.colab-df-convert');\n",
              "        buttonEl.style.display =\n",
              "          google.colab.kernel.accessAllowed ? 'block' : 'none';\n",
              "\n",
              "        async function convertToInteractive(key) {\n",
              "          const element = document.querySelector('#df-243c8be7-4b22-4300-b64a-2de879bb6c8b');\n",
              "          const dataTable =\n",
              "            await google.colab.kernel.invokeFunction('convertToInteractive',\n",
              "                                                     [key], {});\n",
              "          if (!dataTable) return;\n",
              "\n",
              "          const docLinkHtml = 'Like what you see? Visit the ' +\n",
              "            '<a target=\"_blank\" href=https://colab.research.google.com/notebooks/data_table.ipynb>data table notebook</a>'\n",
              "            + ' to learn more about interactive tables.';\n",
              "          element.innerHTML = '';\n",
              "          dataTable['output_type'] = 'display_data';\n",
              "          await google.colab.output.renderOutput(dataTable, element);\n",
              "          const docLink = document.createElement('div');\n",
              "          docLink.innerHTML = docLinkHtml;\n",
              "          element.appendChild(docLink);\n",
              "        }\n",
              "      </script>\n",
              "    </div>\n",
              "  </div>\n",
              "  "
            ]
          },
          "metadata": {},
          "execution_count": 20
        }
      ]
    },
    {
      "cell_type": "code",
      "source": [
        "#Check whehter the link is full formated link\n",
        "is_full_link = df.link.str.startswith('http')\n",
        "\n",
        "#Check whether the link is pdf documents\n",
        "is_pdf = df.link.str.contains('.pdf')"
      ],
      "metadata": {
        "id": "tqB0rAUXtP52"
      },
      "execution_count": 21,
      "outputs": []
    },
    {
      "cell_type": "code",
      "source": [
        "df['is_full_link'] = is_full_link #Create a new col\n",
        "df['is_pdf'] = is_pdf #create a new col\n",
        "\n",
        "df"
      ],
      "metadata": {
        "id": "JsxbR_uyvKU_"
      },
      "execution_count": null,
      "outputs": []
    },
    {
      "cell_type": "code",
      "source": [
        "df = df[df['is_full_link'] == True ] #Drop all the links\n",
        "df =  df[df['is_pdf'] == False ]\n",
        "\n",
        "df"
      ],
      "metadata": {
        "colab": {
          "base_uri": "https://localhost:8080/",
          "height": 502
        },
        "id": "Sp3XxwOHvoLp",
        "outputId": "94bbcc90-7c5d-4679-912e-f4ddc12190a7"
      },
      "execution_count": 23,
      "outputs": [
        {
          "output_type": "execute_result",
          "data": {
            "text/plain": [
              "                                          title  \\\n",
              "1    business plan to buy an apartment building   \n",
              "2    writing a good abstract for research paper   \n",
              "3                        statement of admission   \n",
              "10                                         Home   \n",
              "11                                   About RURA   \n",
              "..                                          ...   \n",
              "171                      Regulatory instruments   \n",
              "172                             Sector  Reports   \n",
              "173                                  Statistics   \n",
              "174                                        FAQs   \n",
              "175                         All Online Services   \n",
              "\n",
              "                                                  link description  \\\n",
              "1    http://rura.rw/?business-plan-to-buy-an-apartm...        None   \n",
              "2    http://rura.rw/?writing-a-good-abstract-for-re...        None   \n",
              "3               http://rura.rw/?statement-of-admission        None   \n",
              "10                     https://rura.rw/index.php?id=23        None   \n",
              "11                     https://rura.rw/index.php?id=25        None   \n",
              "..                                                 ...         ...   \n",
              "171                   https://rura.rw/index.php?id=179        None   \n",
              "172                   https://rura.rw/index.php?id=185        None   \n",
              "173                    https://rura.rw/index.php?id=86        None   \n",
              "174                    https://rura.rw/index.php?id=88        None   \n",
              "175                         https://licensing.rura.rw/        None   \n",
              "\n",
              "     is_full_link  is_pdf  \n",
              "1            True   False  \n",
              "2            True   False  \n",
              "3            True   False  \n",
              "10           True   False  \n",
              "11           True   False  \n",
              "..            ...     ...  \n",
              "171          True   False  \n",
              "172          True   False  \n",
              "173          True   False  \n",
              "174          True   False  \n",
              "175          True   False  \n",
              "\n",
              "[165 rows x 5 columns]"
            ],
            "text/html": [
              "\n",
              "  <div id=\"df-14cb314a-b0b1-46db-8cb5-34c88400c51a\">\n",
              "    <div class=\"colab-df-container\">\n",
              "      <div>\n",
              "<style scoped>\n",
              "    .dataframe tbody tr th:only-of-type {\n",
              "        vertical-align: middle;\n",
              "    }\n",
              "\n",
              "    .dataframe tbody tr th {\n",
              "        vertical-align: top;\n",
              "    }\n",
              "\n",
              "    .dataframe thead th {\n",
              "        text-align: right;\n",
              "    }\n",
              "</style>\n",
              "<table border=\"1\" class=\"dataframe\">\n",
              "  <thead>\n",
              "    <tr style=\"text-align: right;\">\n",
              "      <th></th>\n",
              "      <th>title</th>\n",
              "      <th>link</th>\n",
              "      <th>description</th>\n",
              "      <th>is_full_link</th>\n",
              "      <th>is_pdf</th>\n",
              "    </tr>\n",
              "  </thead>\n",
              "  <tbody>\n",
              "    <tr>\n",
              "      <th>1</th>\n",
              "      <td>business plan to buy an apartment building</td>\n",
              "      <td>http://rura.rw/?business-plan-to-buy-an-apartm...</td>\n",
              "      <td>None</td>\n",
              "      <td>True</td>\n",
              "      <td>False</td>\n",
              "    </tr>\n",
              "    <tr>\n",
              "      <th>2</th>\n",
              "      <td>writing a good abstract for research paper</td>\n",
              "      <td>http://rura.rw/?writing-a-good-abstract-for-re...</td>\n",
              "      <td>None</td>\n",
              "      <td>True</td>\n",
              "      <td>False</td>\n",
              "    </tr>\n",
              "    <tr>\n",
              "      <th>3</th>\n",
              "      <td>statement of admission</td>\n",
              "      <td>http://rura.rw/?statement-of-admission</td>\n",
              "      <td>None</td>\n",
              "      <td>True</td>\n",
              "      <td>False</td>\n",
              "    </tr>\n",
              "    <tr>\n",
              "      <th>10</th>\n",
              "      <td>Home</td>\n",
              "      <td>https://rura.rw/index.php?id=23</td>\n",
              "      <td>None</td>\n",
              "      <td>True</td>\n",
              "      <td>False</td>\n",
              "    </tr>\n",
              "    <tr>\n",
              "      <th>11</th>\n",
              "      <td>About RURA</td>\n",
              "      <td>https://rura.rw/index.php?id=25</td>\n",
              "      <td>None</td>\n",
              "      <td>True</td>\n",
              "      <td>False</td>\n",
              "    </tr>\n",
              "    <tr>\n",
              "      <th>...</th>\n",
              "      <td>...</td>\n",
              "      <td>...</td>\n",
              "      <td>...</td>\n",
              "      <td>...</td>\n",
              "      <td>...</td>\n",
              "    </tr>\n",
              "    <tr>\n",
              "      <th>171</th>\n",
              "      <td>Regulatory instruments</td>\n",
              "      <td>https://rura.rw/index.php?id=179</td>\n",
              "      <td>None</td>\n",
              "      <td>True</td>\n",
              "      <td>False</td>\n",
              "    </tr>\n",
              "    <tr>\n",
              "      <th>172</th>\n",
              "      <td>Sector  Reports</td>\n",
              "      <td>https://rura.rw/index.php?id=185</td>\n",
              "      <td>None</td>\n",
              "      <td>True</td>\n",
              "      <td>False</td>\n",
              "    </tr>\n",
              "    <tr>\n",
              "      <th>173</th>\n",
              "      <td>Statistics</td>\n",
              "      <td>https://rura.rw/index.php?id=86</td>\n",
              "      <td>None</td>\n",
              "      <td>True</td>\n",
              "      <td>False</td>\n",
              "    </tr>\n",
              "    <tr>\n",
              "      <th>174</th>\n",
              "      <td>FAQs</td>\n",
              "      <td>https://rura.rw/index.php?id=88</td>\n",
              "      <td>None</td>\n",
              "      <td>True</td>\n",
              "      <td>False</td>\n",
              "    </tr>\n",
              "    <tr>\n",
              "      <th>175</th>\n",
              "      <td>All Online Services</td>\n",
              "      <td>https://licensing.rura.rw/</td>\n",
              "      <td>None</td>\n",
              "      <td>True</td>\n",
              "      <td>False</td>\n",
              "    </tr>\n",
              "  </tbody>\n",
              "</table>\n",
              "<p>165 rows × 5 columns</p>\n",
              "</div>\n",
              "      <button class=\"colab-df-convert\" onclick=\"convertToInteractive('df-14cb314a-b0b1-46db-8cb5-34c88400c51a')\"\n",
              "              title=\"Convert this dataframe to an interactive table.\"\n",
              "              style=\"display:none;\">\n",
              "        \n",
              "  <svg xmlns=\"http://www.w3.org/2000/svg\" height=\"24px\"viewBox=\"0 0 24 24\"\n",
              "       width=\"24px\">\n",
              "    <path d=\"M0 0h24v24H0V0z\" fill=\"none\"/>\n",
              "    <path d=\"M18.56 5.44l.94 2.06.94-2.06 2.06-.94-2.06-.94-.94-2.06-.94 2.06-2.06.94zm-11 1L8.5 8.5l.94-2.06 2.06-.94-2.06-.94L8.5 2.5l-.94 2.06-2.06.94zm10 10l.94 2.06.94-2.06 2.06-.94-2.06-.94-.94-2.06-.94 2.06-2.06.94z\"/><path d=\"M17.41 7.96l-1.37-1.37c-.4-.4-.92-.59-1.43-.59-.52 0-1.04.2-1.43.59L10.3 9.45l-7.72 7.72c-.78.78-.78 2.05 0 2.83L4 21.41c.39.39.9.59 1.41.59.51 0 1.02-.2 1.41-.59l7.78-7.78 2.81-2.81c.8-.78.8-2.07 0-2.86zM5.41 20L4 18.59l7.72-7.72 1.47 1.35L5.41 20z\"/>\n",
              "  </svg>\n",
              "      </button>\n",
              "      \n",
              "  <style>\n",
              "    .colab-df-container {\n",
              "      display:flex;\n",
              "      flex-wrap:wrap;\n",
              "      gap: 12px;\n",
              "    }\n",
              "\n",
              "    .colab-df-convert {\n",
              "      background-color: #E8F0FE;\n",
              "      border: none;\n",
              "      border-radius: 50%;\n",
              "      cursor: pointer;\n",
              "      display: none;\n",
              "      fill: #1967D2;\n",
              "      height: 32px;\n",
              "      padding: 0 0 0 0;\n",
              "      width: 32px;\n",
              "    }\n",
              "\n",
              "    .colab-df-convert:hover {\n",
              "      background-color: #E2EBFA;\n",
              "      box-shadow: 0px 1px 2px rgba(60, 64, 67, 0.3), 0px 1px 3px 1px rgba(60, 64, 67, 0.15);\n",
              "      fill: #174EA6;\n",
              "    }\n",
              "\n",
              "    [theme=dark] .colab-df-convert {\n",
              "      background-color: #3B4455;\n",
              "      fill: #D2E3FC;\n",
              "    }\n",
              "\n",
              "    [theme=dark] .colab-df-convert:hover {\n",
              "      background-color: #434B5C;\n",
              "      box-shadow: 0px 1px 3px 1px rgba(0, 0, 0, 0.15);\n",
              "      filter: drop-shadow(0px 1px 2px rgba(0, 0, 0, 0.3));\n",
              "      fill: #FFFFFF;\n",
              "    }\n",
              "  </style>\n",
              "\n",
              "      <script>\n",
              "        const buttonEl =\n",
              "          document.querySelector('#df-14cb314a-b0b1-46db-8cb5-34c88400c51a button.colab-df-convert');\n",
              "        buttonEl.style.display =\n",
              "          google.colab.kernel.accessAllowed ? 'block' : 'none';\n",
              "\n",
              "        async function convertToInteractive(key) {\n",
              "          const element = document.querySelector('#df-14cb314a-b0b1-46db-8cb5-34c88400c51a');\n",
              "          const dataTable =\n",
              "            await google.colab.kernel.invokeFunction('convertToInteractive',\n",
              "                                                     [key], {});\n",
              "          if (!dataTable) return;\n",
              "\n",
              "          const docLinkHtml = 'Like what you see? Visit the ' +\n",
              "            '<a target=\"_blank\" href=https://colab.research.google.com/notebooks/data_table.ipynb>data table notebook</a>'\n",
              "            + ' to learn more about interactive tables.';\n",
              "          element.innerHTML = '';\n",
              "          dataTable['output_type'] = 'display_data';\n",
              "          await google.colab.output.renderOutput(dataTable, element);\n",
              "          const docLink = document.createElement('div');\n",
              "          docLink.innerHTML = docLinkHtml;\n",
              "          element.appendChild(docLink);\n",
              "        }\n",
              "      </script>\n",
              "    </div>\n",
              "  </div>\n",
              "  "
            ]
          },
          "metadata": {},
          "execution_count": 23
        }
      ]
    },
    {
      "cell_type": "code",
      "source": [
        "df.iloc[5]"
      ],
      "metadata": {
        "colab": {
          "base_uri": "https://localhost:8080/"
        },
        "id": "3XQkrBvIy6zs",
        "outputId": "1e3987b2-3d75-4fd8-8b6a-2ecaaeaa2ba3"
      },
      "execution_count": 24,
      "outputs": [
        {
          "output_type": "execute_result",
          "data": {
            "text/plain": [
              "title                                Background\n",
              "link            https://rura.rw/index.php?id=44\n",
              "description                                None\n",
              "is_full_link                               True\n",
              "is_pdf                                    False\n",
              "Name: 12, dtype: object"
            ]
          },
          "metadata": {},
          "execution_count": 24
        }
      ]
    },
    {
      "cell_type": "code",
      "source": [
        "# This cell is for cleanning by using regular expression\n",
        "\n",
        "import re\n",
        "\n",
        "def preprocessing(titles : list):\n",
        "  cleaned_titles = []\n",
        "  for title in titles:\n",
        "    title = title.lower()\n",
        "    url_pattern = re.compile(r'https?://\\S+|www\\.\\S+')\n",
        "    html_pattern = re.compile('<.*?>')\n",
        "    title = url_pattern.sub(r'', title)\n",
        "    title = html_pattern.sub(r'', title)\n",
        "    title = re.sub(r\"[^\\w\\d'\\s]+\", ' ', title)\n",
        "    cleaned_titles.append(title)\n",
        "  return cleaned_titles\n",
        "\n",
        "\n",
        "df['title'] = preprocessing(df['title'])\n"
      ],
      "metadata": {
        "id": "40uPzKRev2Fl"
      },
      "execution_count": 25,
      "outputs": []
    },
    {
      "cell_type": "code",
      "source": [
        "df"
      ],
      "metadata": {
        "id": "cS06LQvDwzlx"
      },
      "execution_count": null,
      "outputs": []
    },
    {
      "cell_type": "markdown",
      "source": [
        "# **Time for Building the Chatbot**\n"
      ],
      "metadata": {
        "id": "FCGITcGPxKkZ"
      }
    },
    {
      "cell_type": "code",
      "source": [
        "# Asking some questions and Answers!\n",
        "\n",
        "question = \"\"\"Guide me to the rura home page?\n",
        "Guide me to the rura transport page?\n",
        "where do you get {}?\n",
        "what is the link to the {}?\n",
        "how do you get {}?\n",
        "who is in charge of {}?\n",
        "etc,... \"\"\"\n",
        "\n",
        "Answers = \"\"\"Here is the link {}.\n",
        "you can use this link {} for more information.\"\"\""
      ],
      "metadata": {
        "id": "fiXKJiutw4Qu"
      },
      "execution_count": 8,
      "outputs": []
    },
    {
      "cell_type": "code",
      "source": [
        "question.split('\\n')\n"
      ],
      "metadata": {
        "colab": {
          "base_uri": "https://localhost:8080/"
        },
        "id": "ecL9MAtvyVKf",
        "outputId": "d9a4e4ea-3df8-4f4f-d517-85684b9fa23f"
      },
      "execution_count": 9,
      "outputs": [
        {
          "output_type": "execute_result",
          "data": {
            "text/plain": [
              "['Guide me to the rura home page?',\n",
              " 'Guide me to the rura transport page?',\n",
              " 'where do you get {}?',\n",
              " 'what is the link to the {}?',\n",
              " 'how do you get {}?',\n",
              " 'who is in charge of {}?',\n",
              " 'etc,... ']"
            ]
          },
          "metadata": {},
          "execution_count": 9
        }
      ]
    },
    {
      "cell_type": "code",
      "source": [
        "intents = []\n",
        "\n",
        "for index in range(len(df)):\n",
        "  intent = {}\n",
        "  tag = df.iloc[index]['title']\n",
        "  intent['tag'] = tag\n",
        "  intent['patterns'] = list()\n",
        "  intent['responses'] = [f'You can use this link {df.iloc[index].link} for more information']\n",
        "  for i in range(len(question.split('\\n'))):\n",
        "    intent['patterns'].append(question.split('\\n')[i].format(intent['tag']))\n",
        "\n",
        "  intents.append(intent)\n",
        "  \n",
        "file = {'intents': intents}"
      ],
      "metadata": {
        "id": "M0S8yNjJyvk5"
      },
      "execution_count": 27,
      "outputs": []
    },
    {
      "cell_type": "code",
      "source": [
        "file"
      ],
      "metadata": {
        "id": "g2wgXb5Rzuir"
      },
      "execution_count": null,
      "outputs": []
    },
    {
      "cell_type": "code",
      "source": [
        "#!git clone https://github.com/FabienMiguel/chattbot.git"
      ],
      "metadata": {
        "colab": {
          "base_uri": "https://localhost:8080/"
        },
        "id": "hdayXznh0Dv7",
        "outputId": "3620fb79-b31b-4293-9af6-099a132e4db2"
      },
      "execution_count": 3,
      "outputs": [
        {
          "output_type": "stream",
          "name": "stdout",
          "text": [
            "Cloning into 'chattbot'...\n",
            "remote: Enumerating objects: 30, done.\u001b[K\n",
            "remote: Counting objects: 100% (30/30), done.\u001b[K\n",
            "remote: Compressing objects: 100% (21/21), done.\u001b[K\n",
            "remote: Total 30 (delta 6), reused 30 (delta 6), pack-reused 0\u001b[K\n",
            "Unpacking objects: 100% (30/30), done.\n"
          ]
        }
      ]
    },
    {
      "cell_type": "code",
      "source": [
        "import json"
      ],
      "metadata": {
        "id": "UKAnt7d18cvj"
      },
      "execution_count": 29,
      "outputs": []
    },
    {
      "cell_type": "code",
      "source": [
        "with open('/content/chattbot/intents.json', 'w+') as f:\n",
        "  f.seek(0)\n",
        "  f.truncate()\n",
        "  json.dump(file, f)"
      ],
      "metadata": {
        "id": "JGPlK-Ti8tgr"
      },
      "execution_count": 31,
      "outputs": []
    },
    {
      "cell_type": "code",
      "source": [
        "%cd /content/chattbot"
      ],
      "metadata": {
        "colab": {
          "base_uri": "https://localhost:8080/"
        },
        "id": "R5di96i89mje",
        "outputId": "752f6600-e757-48f2-9978-ae8f67249203"
      },
      "execution_count": 33,
      "outputs": [
        {
          "output_type": "stream",
          "name": "stdout",
          "text": [
            "/content/chattbot\n"
          ]
        }
      ]
    },
    {
      "cell_type": "code",
      "source": [
        "!ls"
      ],
      "metadata": {
        "colab": {
          "base_uri": "https://localhost:8080/"
        },
        "id": "pdwCK7A1sQFb",
        "outputId": "e1fd19b2-6267-444b-df58-b0dc6ac33758"
      },
      "execution_count": 34,
      "outputs": [
        {
          "output_type": "stream",
          "name": "stdout",
          "text": [
            "app.py\t  intents.json\t __pycache__\t      static\t train.py\n",
            "chat.py   model.py\t README.md\t      st.py\n",
            "data.pth  nltk_utils.py  standalone-frontend  templates\n"
          ]
        }
      ]
    },
    {
      "cell_type": "code",
      "source": [
        "#This cell is for tokenizetion of data that why i've to import nltk library\n",
        "\n",
        "import nltk \n",
        "nltk.download('punkt')"
      ],
      "metadata": {
        "colab": {
          "base_uri": "https://localhost:8080/"
        },
        "id": "zMyajxJl-QPL",
        "outputId": "15d5b139-01ec-41ec-cce6-68ff30d03906"
      },
      "execution_count": 35,
      "outputs": [
        {
          "output_type": "stream",
          "name": "stderr",
          "text": [
            "[nltk_data] Downloading package punkt to /root/nltk_data...\n",
            "[nltk_data]   Unzipping tokenizers/punkt.zip.\n"
          ]
        },
        {
          "output_type": "execute_result",
          "data": {
            "text/plain": [
              "True"
            ]
          },
          "metadata": {},
          "execution_count": 35
        }
      ]
    },
    {
      "cell_type": "markdown",
      "source": [
        "# **Time to Train the Chatbot to connect the Patterns and Specific questions** \n"
      ],
      "metadata": {
        "id": "JF6IhmhJAM6R"
      }
    },
    {
      "cell_type": "code",
      "source": [
        "#This cell is for installing file to train\n",
        "\n",
        "!python train.py"
      ],
      "metadata": {
        "colab": {
          "base_uri": "https://localhost:8080/"
        },
        "id": "1TcIz0n4ABxs",
        "outputId": "d8ad1b9e-8ae0-440d-ee04-32e3900351d4"
      },
      "execution_count": 36,
      "outputs": [
        {
          "output_type": "stream",
          "name": "stdout",
          "text": [
            "[nltk_data] Downloading package punkt to /root/nltk_data...\n",
            "[nltk_data]   Package punkt is already up-to-date!\n",
            "1155 patterns\n",
            "89 tags: ['\\r\\n          an ai ethics primer for the rwandan ai ecosystem and consultation on ethical ai guidelines \\r\\n        ', '\\r\\n          open call for the rwandan artificial intelligence ai  ecosystem  ai ethics applied programme and consultation\\r\\n        ', '\\r\\n          rura and zambian energy regulator exchange experience on lpg regulation\\r\\n        ', '\\r\\n          rura hosts government institutions to discuss nuclear safeguards implementation\\r\\n        ', '\\r\\n          rura in partnership with iaea hosts a regional workshop on radiation protection officers and qualified experts\\r\\n        ', 'about rura', 'all online services', 'announcements', 'annual reports', 'background', 'board decisions', 'business plan to buy an apartment building', 'complaints handling procedures', 'consumer affairs', 'consumer awareness and educational tools', 'consumer complaint', 'consumer rights and obligations', 'contact us', 'downstream petroleum', 'draft regulations and guidelines', 'driver vocational card  dvc ', 'e internship ', 'e recruitment', 'electricity', 'energy', 'energy sector', 'faqs', 'freight forwarders service', 'gas', 'home', 'ict', 'ict media regulation', 'ict scarce resources management and monitoring', 'ict sector', 'ict standards and quality of service', 'imei verification system', 'jobs', 'key ict documents', 'law governing radiation protection', 'laws and orders', 'laws and regulations', 'media center', 'monthly publication', 'news', 'online services', 'other documents', 'overview', 'postal  courier services regulation and e commerce development', 'press release', 'public notices', 'quarterly publication', 'radiation protection', 'radiation protection ', 'read more', 'regional and international partnerships', 'regulations and guidelines', 'regulations for consultation', 'regulatory instruments', 'renewable energy', 'reports', 'revoked licenses', 'road transport', 'rura functions', 'rura law and related orders', 'rura mission  vision and values', 'rwanda trade portal', 'sanitation', 'sector  reports', 'sector publications', 'sector reports', 'service charter', 'services', 'statement of admission', 'statistics', 'strategic plan 2022 2027', 'sub sectors and services', 'tariffs', 'tenders', 'the regulator magazine', 'transport', 'transport sector', 'tweets by rura_rwanda', 'type approved devices', 'upcoming events', 'water', 'water   sanitation', 'water and sanitation sector', 'waterways transport', 'writing a good abstract for research paper']\n",
            "181 unique stemmed words: [',', '...', '2022', '2027', 'a', 'about', 'abstract', 'admiss', 'affair', 'ai', 'all', 'an', 'and', 'announc', 'annual', 'apart', 'appli', 'approv', 'artifici', 'awar', 'background', 'board', 'build', 'busi', 'buy', 'by', 'call', 'card', 'center', 'charg', 'charter', 'commerc', 'complaint', 'consult', 'consum', 'contact', 'courier', 'decis', 'develop', 'devic', 'discuss', 'do', 'document', 'downstream', 'draft', 'driver', 'dvc', 'e', 'ecosystem', 'educ', 'electr', 'energi', 'etc', 'ethic', 'event', 'exchang', 'experi', 'expert', 'faq', 'for', 'forward', 'freight', 'function', 'ga', 'get', 'good', 'govern', 'guid', 'guidelin', 'handl', 'home', 'host', 'how', 'iaea', 'ict', 'imei', 'implement', 'in', 'institut', 'instrument', 'intellig', 'intern', 'internship', 'is', 'job', 'key', 'law', 'licens', 'link', 'lpg', 'magazin', 'manag', 'me', 'media', 'mission', 'monitor', 'monthli', 'more', 'news', 'notic', 'nuclear', 'oblig', 'of', 'offic', 'on', 'onlin', 'open', 'order', 'other', 'overview', 'page', 'paper', 'partnership', 'petroleum', 'plan', 'portal', 'postal', 'press', 'primer', 'procedur', 'programm', 'protect', 'public', 'qualifi', 'qualiti', 'quarterli', 'radiat', 'read', 'recruit', 'region', 'regul', 'regulatori', 'relat', 'releas', 'renew', 'report', 'research', 'resourc', 'revok', 'right', 'road', 'rura', 'rura_rwanda', 'rwanda', 'rwandan', 'safeguard', 'sanit', 'scarc', 'sector', 'servic', 'standard', 'statement', 'statist', 'strateg', 'sub', 'system', 'tariff', 'tender', 'the', 'to', 'tool', 'trade', 'transport', 'tweet', 'type', 'upcom', 'us', 'valu', 'verif', 'vision', 'vocat', 'water', 'waterway', 'what', 'where', 'who', 'with', 'workshop', 'write', 'you', 'zambian']\n",
            "181 89\n",
            "Epoch [100/1000], Loss: 0.0017\n",
            "Epoch [200/1000], Loss: 1.0289\n",
            "Epoch [300/1000], Loss: 2.6460\n",
            "Epoch [400/1000], Loss: 4.2035\n",
            "Epoch [500/1000], Loss: 3.2032\n",
            "Epoch [600/1000], Loss: 3.3564\n",
            "Epoch [700/1000], Loss: 0.9744\n",
            "Epoch [800/1000], Loss: 1.1767\n",
            "Epoch [900/1000], Loss: 1.4734\n",
            "Epoch [1000/1000], Loss: 2.1783\n",
            "final loss: 2.1783\n",
            "training complete. file saved to data.pth\n"
          ]
        }
      ]
    },
    {
      "cell_type": "code",
      "source": [
        "#This cell is for chat\n",
        "\n",
        "!python chat.py"
      ],
      "metadata": {
        "colab": {
          "base_uri": "https://localhost:8080/"
        },
        "id": "gGNVPhICBTFs",
        "outputId": "8951e558-d849-4d74-cb67-0f6581404c33"
      },
      "execution_count": 37,
      "outputs": [
        {
          "output_type": "stream",
          "name": "stdout",
          "text": [
            "[nltk_data] Downloading package punkt to /root/nltk_data...\n",
            "[nltk_data]   Package punkt is already up-to-date!\n",
            "Let's chat! (type 'quit' to exit)\n",
            "You: guide me about rura?\n",
            "You can use this link https://rura.rw/index.php?id=25 for more information\n",
            "You: guide me to the rura transport page?\n",
            "I do not understand...\n",
            "You: quit\n"
          ]
        }
      ]
    },
    {
      "cell_type": "code",
      "source": [
        "import random\n",
        "import json\n",
        "\n",
        "import torch\n",
        "\n",
        "from model import NeuralNet\n",
        "from nltk_utils import bag_of_words, tokenize\n",
        "\n",
        "device = torch.device('cuda' if torch.cuda.is_available() else 'cpu')\n",
        "\n",
        "with open('intents.json', 'r') as json_data:\n",
        "    intents = json.load(json_data)\n",
        "\n",
        "FILE = \"data.pth\"\n",
        "data = torch.load(FILE)\n",
        "\n",
        "input_size = data[\"input_size\"]\n",
        "hidden_size = data[\"hidden_size\"]\n",
        "output_size = data[\"output_size\"]\n",
        "all_words = data['all_words']\n",
        "tags = data['tags']\n",
        "model_state = data[\"model_state\"]\n",
        "\n",
        "model = NeuralNet(input_size, hidden_size, output_size).to(device)\n",
        "model.load_state_dict(model_state)\n",
        "model.eval()\n",
        "\n",
        "bot_name = \"Jery\"\n",
        "print(\"Let's have a fun!! (type 'quit' to exit)\")\n",
        "\n",
        "def query(question : str):\n",
        "  # sentence = \"do you use credit cards?\"\n",
        "  sentence = question\n",
        "\n",
        "  sentence = tokenize(sentence)\n",
        "  X = bag_of_words(sentence, all_words)\n",
        "  X = X.reshape(1, X.shape[0])\n",
        "  X = torch.from_numpy(X).to(device)\n",
        "\n",
        "  output = model(X)\n",
        "  _, predicted = torch.max(output, dim=1)\n",
        "\n",
        "  tag = tags[predicted.item()]\n",
        "\n",
        "  probs = torch.softmax(output, dim=1)\n",
        "  prob = probs[0][predicted.item()]\n",
        "  if prob.item() > 0.75:\n",
        "      for intent in intents['intents']:\n",
        "          if tag == intent[\"tag\"]:\n",
        "              return f\"{bot_name}: {random.choice(intent['responses'])}\"\n",
        "  else:\n",
        "      return f\"{bot_name}: I do not understand...\""
      ],
      "metadata": {
        "colab": {
          "base_uri": "https://localhost:8080/"
        },
        "id": "UoKa7quLBxKw",
        "outputId": "294ab84a-57ee-4949-c5eb-f7333efab2e4"
      },
      "execution_count": 38,
      "outputs": [
        {
          "output_type": "stream",
          "name": "stdout",
          "text": [
            "Let's have a fun!! (type 'quit' to exit)\n"
          ]
        },
        {
          "output_type": "stream",
          "name": "stderr",
          "text": [
            "[nltk_data] Downloading package punkt to /root/nltk_data...\n",
            "[nltk_data]   Package punkt is already up-to-date!\n"
          ]
        }
      ]
    },
    {
      "cell_type": "code",
      "source": [
        "response = query('tell me about rura')\n",
        "response"
      ],
      "metadata": {
        "colab": {
          "base_uri": "https://localhost:8080/",
          "height": 36
        },
        "id": "5XZ_6M51DL9f",
        "outputId": "863fbd0b-33b2-44a1-ff3b-6d084fd7fe45"
      },
      "execution_count": 39,
      "outputs": [
        {
          "output_type": "execute_result",
          "data": {
            "text/plain": [
              "'Jery: You can use this link https://rura.rw/index.php?id=25 for more information'"
            ],
            "application/vnd.google.colaboratory.intrinsic+json": {
              "type": "string"
            }
          },
          "metadata": {},
          "execution_count": 39
        }
      ]
    },
    {
      "cell_type": "code",
      "source": [
        "!pip install langdetect"
      ],
      "metadata": {
        "colab": {
          "base_uri": "https://localhost:8080/"
        },
        "id": "wmfAt_TgDhar",
        "outputId": "1db08c72-1ffe-47cc-b98a-aa273211ab66"
      },
      "execution_count": 40,
      "outputs": [
        {
          "output_type": "stream",
          "name": "stdout",
          "text": [
            "Looking in indexes: https://pypi.org/simple, https://us-python.pkg.dev/colab-wheels/public/simple/\n",
            "Collecting langdetect\n",
            "  Downloading langdetect-1.0.9.tar.gz (981 kB)\n",
            "\u001b[K     |████████████████████████████████| 981 kB 5.0 MB/s \n",
            "\u001b[?25hRequirement already satisfied: six in /usr/local/lib/python3.8/dist-packages (from langdetect) (1.15.0)\n",
            "Building wheels for collected packages: langdetect\n",
            "  Building wheel for langdetect (setup.py) ... \u001b[?25l\u001b[?25hdone\n",
            "  Created wheel for langdetect: filename=langdetect-1.0.9-py3-none-any.whl size=993242 sha256=2b01aa5f434f01e0727c123faa7c2e1d46b03b90bdf6684bf39c68ab4028b02b\n",
            "  Stored in directory: /root/.cache/pip/wheels/13/c7/b0/79f66658626032e78fc1a83103690ef6797d551cb22e56e734\n",
            "Successfully built langdetect\n",
            "Installing collected packages: langdetect\n",
            "Successfully installed langdetect-1.0.9\n"
          ]
        }
      ]
    },
    {
      "cell_type": "code",
      "source": [
        "\n",
        "import requests\n",
        "import json\n",
        "\n",
        "\n",
        "class translator:\n",
        "    api_url = \"https://translate.googleapis.com/translate_a/single\"\n",
        "    client = \"?client=gtx&dt=t\"\n",
        "    dt = \"&dt=t\"\n",
        "\n",
        "    #fROM English to Kinyarwanda\n",
        "    def translate(text : str , target_lang : str, source_lang : str):\n",
        "        sl = f\"&sl={source_lang}\"\n",
        "        tl = f\"&tl={target_lang}\"\n",
        "        r = requests.get(translator.api_url+ translator.client + translator.dt + sl + tl + \"&q=\" + text)\n",
        "        return json.loads(r.text)[0][0][0]"
      ],
      "metadata": {
        "id": "2JUCgl5uLVVt"
      },
      "execution_count": 41,
      "outputs": []
    },
    {
      "cell_type": "code",
      "source": [
        "resp = translator.translate(text='Mpereza amakuru yerekeye LeoMessi', target_lang='fr', source_lang='rw')\n",
        "resp"
      ],
      "metadata": {
        "colab": {
          "base_uri": "https://localhost:8080/",
          "height": 36
        },
        "id": "tM4bKMXBLs9L",
        "outputId": "c7bb616c-4319-4495-db7e-e9460293ff45"
      },
      "execution_count": 42,
      "outputs": [
        {
          "output_type": "execute_result",
          "data": {
            "text/plain": [
              "\"Je termine l'actualité de LeoMessi\""
            ],
            "application/vnd.google.colaboratory.intrinsic+json": {
              "type": "string"
            }
          },
          "metadata": {},
          "execution_count": 42
        }
      ]
    },
    {
      "cell_type": "code",
      "source": [
        "from langdetect import detect\n",
        "\n",
        "def process_question(text : str):\n",
        "\n",
        "  source_lang = detect(text)\n",
        "  resp = translator.translate(text=text, target_lang='en', source_lang=source_lang)\n",
        "  return resp, source_lang\n",
        "\n",
        "def process_answer(text : str, source_lang):\n",
        "  resp = translator.translate(text=text, target_lang=source_lang, source_lang='en')\n",
        "  return resp"
      ],
      "metadata": {
        "id": "Ir3CWlDmMWXI"
      },
      "execution_count": 43,
      "outputs": []
    },
    {
      "cell_type": "code",
      "source": [
        "def process(QUESTION: str):\n",
        "  USER_QUERY, SL = process_question(QUESTION) #Translate the original question into english and store the source lang\n",
        "  RESPONSE = query(USER_QUERY) #Asking th chatbot question\n",
        "  ORIGINAL_RESPONSE = process_answer(RESPONSE, SL)\n",
        "  return ORIGINAL_RESPONSE\n",
        "\n",
        "process(\"Donne mois de l'information sur RURA?\")"
      ],
      "metadata": {
        "colab": {
          "base_uri": "https://localhost:8080/",
          "height": 53
        },
        "id": "SYd0etNAQWXx",
        "outputId": "ecb44bce-47d1-41b2-9d77-19e35ac48389"
      },
      "execution_count": 44,
      "outputs": [
        {
          "output_type": "execute_result",
          "data": {
            "text/plain": [
              "\"Jery \\u200b\\u200b: Vous pouvez utiliser ce lien https://rura.rw/index.php?id=25 pour plus d'informations\""
            ],
            "application/vnd.google.colaboratory.intrinsic+json": {
              "type": "string"
            }
          },
          "metadata": {},
          "execution_count": 44
        }
      ]
    },
    {
      "cell_type": "markdown",
      "source": [
        " **Time for FastAPI**"
      ],
      "metadata": {
        "id": "AIolznCwRJYm"
      }
    },
    {
      "cell_type": "code",
      "source": [
        "!pip install fastapi pyngrok uvicorn nest-asyncio"
      ],
      "metadata": {
        "colab": {
          "base_uri": "https://localhost:8080/"
        },
        "id": "GCMoUc22Qi01",
        "outputId": "a5cba568-ba2f-440e-a732-05d21d4606d5"
      },
      "execution_count": 45,
      "outputs": [
        {
          "output_type": "stream",
          "name": "stdout",
          "text": [
            "Looking in indexes: https://pypi.org/simple, https://us-python.pkg.dev/colab-wheels/public/simple/\n",
            "Collecting fastapi\n",
            "  Downloading fastapi-0.88.0-py3-none-any.whl (55 kB)\n",
            "\u001b[K     |████████████████████████████████| 55 kB 2.3 MB/s \n",
            "\u001b[?25hCollecting pyngrok\n",
            "  Downloading pyngrok-5.2.1.tar.gz (761 kB)\n",
            "\u001b[K     |████████████████████████████████| 761 kB 10.4 MB/s \n",
            "\u001b[?25hCollecting uvicorn\n",
            "  Downloading uvicorn-0.20.0-py3-none-any.whl (56 kB)\n",
            "\u001b[K     |████████████████████████████████| 56 kB 5.6 MB/s \n",
            "\u001b[?25hCollecting nest-asyncio\n",
            "  Downloading nest_asyncio-1.5.6-py3-none-any.whl (5.2 kB)\n",
            "Collecting starlette==0.22.0\n",
            "  Downloading starlette-0.22.0-py3-none-any.whl (64 kB)\n",
            "\u001b[K     |████████████████████████████████| 64 kB 3.0 MB/s \n",
            "\u001b[?25hRequirement already satisfied: pydantic!=1.7,!=1.7.1,!=1.7.2,!=1.7.3,!=1.8,!=1.8.1,<2.0.0,>=1.6.2 in /usr/local/lib/python3.8/dist-packages (from fastapi) (1.10.2)\n",
            "Requirement already satisfied: typing-extensions>=3.10.0 in /usr/local/lib/python3.8/dist-packages (from starlette==0.22.0->fastapi) (4.4.0)\n",
            "Collecting anyio<5,>=3.4.0\n",
            "  Downloading anyio-3.6.2-py3-none-any.whl (80 kB)\n",
            "\u001b[K     |████████████████████████████████| 80 kB 9.6 MB/s \n",
            "\u001b[?25hCollecting sniffio>=1.1\n",
            "  Downloading sniffio-1.3.0-py3-none-any.whl (10 kB)\n",
            "Requirement already satisfied: idna>=2.8 in /usr/local/lib/python3.8/dist-packages (from anyio<5,>=3.4.0->starlette==0.22.0->fastapi) (2.10)\n",
            "Requirement already satisfied: PyYAML in /usr/local/lib/python3.8/dist-packages (from pyngrok) (6.0)\n",
            "Requirement already satisfied: click>=7.0 in /usr/local/lib/python3.8/dist-packages (from uvicorn) (7.1.2)\n",
            "Collecting h11>=0.8\n",
            "  Downloading h11-0.14.0-py3-none-any.whl (58 kB)\n",
            "\u001b[K     |████████████████████████████████| 58 kB 6.2 MB/s \n",
            "\u001b[?25hBuilding wheels for collected packages: pyngrok\n",
            "  Building wheel for pyngrok (setup.py) ... \u001b[?25l\u001b[?25hdone\n",
            "  Created wheel for pyngrok: filename=pyngrok-5.2.1-py3-none-any.whl size=19792 sha256=9ed21fa8fe28cea70041a12a2aebacc33f14777c45adb45ddbe2a96f47224fc2\n",
            "  Stored in directory: /root/.cache/pip/wheels/5d/f2/70/526da675d32f17577ec47ac4c663084efe39d47c826b6c3bb1\n",
            "Successfully built pyngrok\n",
            "Installing collected packages: sniffio, anyio, starlette, h11, uvicorn, pyngrok, nest-asyncio, fastapi\n",
            "Successfully installed anyio-3.6.2 fastapi-0.88.0 h11-0.14.0 nest-asyncio-1.5.6 pyngrok-5.2.1 sniffio-1.3.0 starlette-0.22.0 uvicorn-0.20.0\n"
          ]
        }
      ]
    },
    {
      "cell_type": "code",
      "source": [
        "!ngrok authtoken 2HJQ5KFUMPejTBPPFOQGP2WRU74_o2vYuu2ZQcGb3zYD6ziq"
      ],
      "metadata": {
        "colab": {
          "base_uri": "https://localhost:8080/"
        },
        "id": "2sLdhwXsRngC",
        "outputId": "946880d2-c716-409f-d3d4-5b8533afcbad"
      },
      "execution_count": 46,
      "outputs": [
        {
          "output_type": "stream",
          "name": "stdout",
          "text": [
            "Authtoken saved to configuration file: /root/.ngrok2/ngrok.yml\n"
          ]
        }
      ]
    },
    {
      "cell_type": "code",
      "source": [
        "from fastapi import FastAPI, Request\n",
        "from fastapi.responses import HTMLResponse"
      ],
      "metadata": {
        "id": "HWWnG1RvTRmu"
      },
      "execution_count": 47,
      "outputs": []
    },
    {
      "cell_type": "code",
      "source": [
        "#Cell for chatbot title\n",
        "app = FastAPI(title='Hold_Up Chatbot')"
      ],
      "metadata": {
        "id": "N6jtlzO2Txok"
      },
      "execution_count": 48,
      "outputs": []
    },
    {
      "cell_type": "code",
      "source": [
        "@app.get('/')\n",
        "def index():\n",
        "  return 'Welcome to my Hold_Up Web app'\n",
        "\n",
        "\n",
        "@app.get('/chatbot')\n",
        "def chatbot(query : str = None):\n",
        "  return process(query)"
      ],
      "metadata": {
        "id": "Sm7MSGYWV8um"
      },
      "execution_count": 49,
      "outputs": []
    },
    {
      "cell_type": "code",
      "source": [
        "import nest_asyncio\n",
        "from pyngrok import ngrok\n",
        "import uvicorn\n",
        "\n",
        "ngrok_tunnel = ngrok.connect(8000)\n",
        "print('Please use the following link to access you app', ngrok_tunnel.public_url)\n",
        "\n",
        "nest_asyncio.apply()\n",
        "uvicorn.run(app, port=8000)"
      ],
      "metadata": {
        "colab": {
          "base_uri": "https://localhost:8080/"
        },
        "id": "VkcA4inMWCgm",
        "outputId": "c08710eb-8201-4ff6-b9e4-b6ecd35f79e8"
      },
      "execution_count": null,
      "outputs": [
        {
          "output_type": "stream",
          "name": "stderr",
          "text": [
            "INFO:     Started server process [74]\n",
            "INFO:     Waiting for application startup.\n",
            "INFO:     Application startup complete.\n",
            "INFO:     Uvicorn running on http://127.0.0.1:8000 (Press CTRL+C to quit)\n"
          ]
        },
        {
          "output_type": "stream",
          "name": "stdout",
          "text": [
            "Please use the following link to access you app http://eade-34-75-124-181.ngrok.io\n",
            "INFO:     2c0f:eb68:203:3c00:802f:c800:be67:7648:0 - \"GET / HTTP/1.1\" 200 OK\n",
            "INFO:     2c0f:eb68:203:3c00:802f:c800:be67:7648:0 - \"GET /favicon.ico HTTP/1.1\" 404 Not Found\n"
          ]
        }
      ]
    },
    {
      "cell_type": "code",
      "source": [],
      "metadata": {
        "colab": {
          "base_uri": "https://localhost:8080/"
        },
        "id": "p5G8TY6cWOZ9",
        "outputId": "bb33ec0a-1259-495e-d5ea-b18dff65ec02"
      },
      "execution_count": 88,
      "outputs": [
        {
          "output_type": "stream",
          "name": "stdout",
          "text": [
            "Cloning into 'chatbot-deployment-patrickloeber-'...\n",
            "remote: Enumerating objects: 37, done.\u001b[K\n",
            "remote: Counting objects: 100% (35/35), done.\u001b[K\n",
            "remote: Compressing objects: 100% (23/23), done.\u001b[K\n",
            "remote: Total 37 (delta 9), reused 32 (delta 7), pack-reused 2\u001b[K\n",
            "Unpacking objects: 100% (37/37), done.\n"
          ]
        }
      ]
    },
    {
      "cell_type": "code",
      "source": [],
      "metadata": {
        "id": "FpSDLusDsE8Z"
      },
      "execution_count": null,
      "outputs": []
    }
  ]
}