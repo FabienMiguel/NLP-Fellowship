{
  "cells": [
    {
      "cell_type": "markdown",
      "metadata": {
        "id": "view-in-github",
        "colab_type": "text"
      },
      "source": [
        "<a href=\"https://colab.research.google.com/github/FabienMiguel/NLP-Fellowship/blob/main/Parsing_IGihe_Raw_new.ipynb\" target=\"_parent\"><img src=\"https://colab.research.google.com/assets/colab-badge.svg\" alt=\"Open In Colab\"/></a>"
      ]
    },
    {
      "cell_type": "code",
      "execution_count": null,
      "id": "e6866dda",
      "metadata": {
        "id": "e6866dda"
      },
      "outputs": [],
      "source": [
        "import requests\n",
        "from bs4 import BeautifulSoup\n",
        "import pandas as pd"
      ]
    },
    {
      "cell_type": "code",
      "execution_count": null,
      "id": "c9cb3f86",
      "metadata": {
        "id": "c9cb3f86"
      },
      "outputs": [],
      "source": [
        "#Get all the available captures since jan-2022"
      ]
    },
    {
      "cell_type": "code",
      "execution_count": null,
      "id": "805c52bc",
      "metadata": {
        "id": "805c52bc"
      },
      "outputs": [],
      "source": [
        "links =  requests.get('http://archive.org/wayback/available?url=igihe.com&timestamp=20220123')"
      ]
    },
    {
      "cell_type": "code",
      "execution_count": null,
      "id": "9bee00f7",
      "metadata": {
        "colab": {
          "base_uri": "https://localhost:8080/"
        },
        "id": "9bee00f7",
        "outputId": "509967d5-5472-4e1b-ccb2-34198cb83cfb"
      },
      "outputs": [
        {
          "output_type": "execute_result",
          "data": {
            "text/plain": [
              "{'url': 'igihe.com',\n",
              " 'archived_snapshots': {'closest': {'status': '200',\n",
              "   'available': True,\n",
              "   'url': 'http://web.archive.org/web/20220123092659/https://igihe.com/',\n",
              "   'timestamp': '20220123092659'}},\n",
              " 'timestamp': '20220123'}"
            ]
          },
          "metadata": {},
          "execution_count": 3
        }
      ],
      "source": [
        "links.json()"
      ]
    },
    {
      "cell_type": "code",
      "execution_count": null,
      "id": "cf1ae953",
      "metadata": {
        "colab": {
          "base_uri": "https://localhost:8080/",
          "height": 35
        },
        "id": "cf1ae953",
        "outputId": "020ce2c2-8625-4fc9-8f78-793a36251e6e"
      },
      "outputs": [
        {
          "output_type": "execute_result",
          "data": {
            "text/plain": [
              "'http://web.archive.org/web/20220123092659/https://igihe.com/'"
            ],
            "application/vnd.google.colaboratory.intrinsic+json": {
              "type": "string"
            }
          },
          "metadata": {},
          "execution_count": 6
        }
      ],
      "source": [
        "links.json()['archived_snapshots']['closest']['url']"
      ]
    },
    {
      "cell_type": "code",
      "execution_count": null,
      "id": "c80e0c01",
      "metadata": {
        "scrolled": true,
        "id": "c80e0c01"
      },
      "outputs": [],
      "source": [
        "snap = []\n",
        "err = []\n",
        "for month in range(1,11):\n",
        "    for day in range(1,32):\n",
        "        link = requests.get(url='http://archive.org/wayback/available?url=igihe.com&timestamp=2022{:02d}{:02d}'.format(month, day))\n",
        "        try:\n",
        "            if link.json()['archived_snapshots']['closest']['available']:\n",
        "              #we store each snapshot link into snap list\n",
        "                snap.append(link.json()['archived_snapshots']['closest']['url'])\n",
        "        except KeyError:\n",
        "            err.append(link.json())\n",
        "            break"
      ]
    },
    {
      "cell_type": "code",
      "source": [
        "len(snap)"
      ],
      "metadata": {
        "colab": {
          "base_uri": "https://localhost:8080/"
        },
        "id": "o4u5sMrWpDlU",
        "outputId": "d0e3904d-cb06-4c99-c027-188a0a179060"
      },
      "id": "o4u5sMrWpDlU",
      "execution_count": null,
      "outputs": [
        {
          "output_type": "execute_result",
          "data": {
            "text/plain": [
              "52"
            ]
          },
          "metadata": {},
          "execution_count": 9
        }
      ]
    },
    {
      "cell_type": "code",
      "source": [
        "err"
      ],
      "metadata": {
        "colab": {
          "base_uri": "https://localhost:8080/"
        },
        "id": "ybYrpDEZpYYT",
        "outputId": "06208427-e80c-432d-f67d-12caf089c447"
      },
      "id": "ybYrpDEZpYYT",
      "execution_count": null,
      "outputs": [
        {
          "output_type": "execute_result",
          "data": {
            "text/plain": [
              "[{'url': 'igihe.com', 'archived_snapshots': {}, 'timestamp': '20220104'},\n",
              " {'url': 'igihe.com', 'archived_snapshots': {}, 'timestamp': '20220203'},\n",
              " {'url': 'igihe.com', 'archived_snapshots': {}, 'timestamp': '20220314'},\n",
              " {'url': 'igihe.com', 'archived_snapshots': {}, 'timestamp': '20220401'},\n",
              " {'url': 'igihe.com', 'archived_snapshots': {}, 'timestamp': '20220502'},\n",
              " {'url': 'igihe.com', 'archived_snapshots': {}, 'timestamp': '20220606'},\n",
              " {'url': 'igihe.com', 'archived_snapshots': {}, 'timestamp': '20220702'},\n",
              " {'url': 'igihe.com', 'archived_snapshots': {}, 'timestamp': '20220804'},\n",
              " {'url': 'igihe.com', 'archived_snapshots': {}, 'timestamp': '20220905'},\n",
              " {'url': 'igihe.com', 'archived_snapshots': {}, 'timestamp': '20221021'}]"
            ]
          },
          "metadata": {},
          "execution_count": 11
        }
      ]
    },
    {
      "cell_type": "code",
      "source": [
        "snap_set  = set(snap)"
      ],
      "metadata": {
        "id": "bvPFkXLy7Gt-"
      },
      "id": "bvPFkXLy7Gt-",
      "execution_count": null,
      "outputs": []
    },
    {
      "cell_type": "code",
      "source": [
        "len(snap_set)"
      ],
      "metadata": {
        "colab": {
          "base_uri": "https://localhost:8080/"
        },
        "id": "e0DZ-ggp798R",
        "outputId": "68c546cd-2cb7-47a8-ff66-4177ef3000e0"
      },
      "id": "e0DZ-ggp798R",
      "execution_count": null,
      "outputs": [
        {
          "output_type": "execute_result",
          "data": {
            "text/plain": [
              "23"
            ]
          },
          "metadata": {},
          "execution_count": 12
        }
      ]
    },
    {
      "cell_type": "code",
      "source": [
        "snap_r = list(snap_set)"
      ],
      "metadata": {
        "id": "56WvM9O8CewB"
      },
      "id": "56WvM9O8CewB",
      "execution_count": null,
      "outputs": []
    },
    {
      "cell_type": "code",
      "source": [
        "len(snap_r)"
      ],
      "metadata": {
        "colab": {
          "base_uri": "https://localhost:8080/"
        },
        "id": "BaUACdbdDCdD",
        "outputId": "cb89ef6c-739f-40bc-dac6-be7b04dc8c15"
      },
      "id": "BaUACdbdDCdD",
      "execution_count": null,
      "outputs": [
        {
          "output_type": "execute_result",
          "data": {
            "text/plain": [
              "23"
            ]
          },
          "metadata": {},
          "execution_count": 14
        }
      ]
    },
    {
      "cell_type": "code",
      "source": [
        "str(snap_r[0])"
      ],
      "metadata": {
        "colab": {
          "base_uri": "https://localhost:8080/",
          "height": 35
        },
        "id": "RBIVQxEPYltW",
        "outputId": "c659a2cf-2ca8-4941-b5de-c3f2cc7e92e4"
      },
      "id": "RBIVQxEPYltW",
      "execution_count": null,
      "outputs": [
        {
          "output_type": "execute_result",
          "data": {
            "text/plain": [
              "'http://web.archive.org/web/20220226095802/https://www.igihe.com/'"
            ],
            "application/vnd.google.colaboratory.intrinsic+json": {
              "type": "string"
            }
          },
          "metadata": {},
          "execution_count": 15
        }
      ]
    },
    {
      "cell_type": "code",
      "source": [
        "#Get the content of single snapshot\n",
        "b = requests.get(url=str(snap_r[0]))"
      ],
      "metadata": {
        "id": "eKW-2RmtDUUv"
      },
      "id": "eKW-2RmtDUUv",
      "execution_count": null,
      "outputs": []
    },
    {
      "cell_type": "code",
      "source": [
        "b.content"
      ],
      "metadata": {
        "id": "1Zb5qZv9Y9oa"
      },
      "id": "1Zb5qZv9Y9oa",
      "execution_count": null,
      "outputs": []
    },
    {
      "cell_type": "code",
      "source": [
        "BeautifulSoup(str(b.content), \"html.parser\").prettify()"
      ],
      "metadata": {
        "id": "-LvKh0fsDcif"
      },
      "id": "-LvKh0fsDcif",
      "execution_count": null,
      "outputs": []
    },
    {
      "cell_type": "code",
      "source": [
        "#Fetch all the titles and their link from wayback archivr\n",
        "\n",
        "links_art = []\n",
        "\n",
        "for lin in snap_r:\n",
        "  content = requests.get(lin).content #pass each snapshot link to the requests\n",
        "  soup =  BeautifulSoup(content, \"html.parser\") #pass each snapshot content html parser\n",
        "  articles = soup.find_all('span', class_=\"homenews-title\") #look for all title in the snapshot\n",
        "  links_art.append(articles)"
      ],
      "metadata": {
        "id": "gwz0abvt9TiL"
      },
      "id": "gwz0abvt9TiL",
      "execution_count": null,
      "outputs": []
    },
    {
      "cell_type": "code",
      "source": [
        "links_art[0][0].find('a')['href']"
      ],
      "metadata": {
        "colab": {
          "base_uri": "https://localhost:8080/",
          "height": 35
        },
        "id": "5X-tf-97HqZq",
        "outputId": "2fc9c285-313d-4cf7-f0f0-6e7ca3a62e48"
      },
      "id": "5X-tf-97HqZq",
      "execution_count": null,
      "outputs": [
        {
          "output_type": "execute_result",
          "data": {
            "text/plain": [
              "'imyidagaduro/article/briana-wakanyujijeho-mu-rukundo-na-harmonize-ategerejwe-mu-rwanda'"
            ],
            "application/vnd.google.colaboratory.intrinsic+json": {
              "type": "string"
            }
          },
          "metadata": {},
          "execution_count": 57
        }
      ]
    },
    {
      "cell_type": "code",
      "source": [
        "list(snaps_r)[0]"
      ],
      "metadata": {
        "colab": {
          "base_uri": "https://localhost:8080/",
          "height": 35
        },
        "id": "aZfTEsJVd872",
        "outputId": "d1c07124-7f81-4075-c528-b1d85fbb2f97"
      },
      "id": "aZfTEsJVd872",
      "execution_count": null,
      "outputs": [
        {
          "output_type": "execute_result",
          "data": {
            "text/plain": [
              "'http://web.archive.org/web/20220504005827/https://www.igihe.com/'"
            ],
            "application/vnd.google.colaboratory.intrinsic+json": {
              "type": "string"
            }
          },
          "metadata": {},
          "execution_count": 60
        }
      ]
    },
    {
      "cell_type": "code",
      "source": [
        "snapshot = [ [title_1, title2,...75], [title_1, title_2, 74], ..., 23]"
      ],
      "metadata": {
        "id": "WfwsHW4pvYSm"
      },
      "id": "WfwsHW4pvYSm",
      "execution_count": null,
      "outputs": []
    },
    {
      "cell_type": "code",
      "source": [
        "#Actual link\n",
        "snapshot_link = []\n",
        "title_ = []\n",
        "\n",
        "#Loop all the 184 snapshots\n",
        "for index, snapshot in enumerate(list(snap_r)):\n",
        "  #In each title assign it's snapshop prefix link\n",
        "  for title in links_art[index]:\n",
        "    snapshot_link.append(snapshot)\n",
        "    title_.append(str(title.find('a')['href']))"
      ],
      "metadata": {
        "id": "FZ-U9WKMadtF"
      },
      "id": "FZ-U9WKMadtF",
      "execution_count": null,
      "outputs": []
    },
    {
      "cell_type": "code",
      "source": [
        "len(title_)"
      ],
      "metadata": {
        "colab": {
          "base_uri": "https://localhost:8080/"
        },
        "id": "945pI3xxfpKd",
        "outputId": "2bd0fecf-a2be-4348-8dc4-642eb6490d6f"
      },
      "id": "945pI3xxfpKd",
      "execution_count": null,
      "outputs": [
        {
          "output_type": "execute_result",
          "data": {
            "text/plain": [
              "1679"
            ]
          },
          "metadata": {},
          "execution_count": 22
        }
      ]
    },
    {
      "cell_type": "code",
      "source": [
        "title_[0:5]"
      ],
      "metadata": {
        "colab": {
          "base_uri": "https://localhost:8080/"
        },
        "id": "XtXq1v17u7Bg",
        "outputId": "2074c699-12c7-457f-bc68-8a2605b14314"
      },
      "id": "XtXq1v17u7Bg",
      "execution_count": null,
      "outputs": [
        {
          "output_type": "execute_result",
          "data": {
            "text/plain": [
              "['amakuru/mu-mahanga/article/perezida-wa-ukraine-yanze-guhungira-muri-amerika',\n",
              " 'imyidagaduro/muzika/article/ibihembo-bya-isango-na-muzika-awards-byongeye-gutangwa-bruce-melodie-aba',\n",
              " 'amakuru/u-rwanda/article/imvura-izakomeza-kugwa-cyane-kugeza-muri-kamena-abaturage-basabwe-kwitwararika',\n",
              " 'imyidagaduro/article/miss-rwanda-uko-byari-byifashe-mu-myiteguro-ya-nyuma-ya-pre-selection-amafoto',\n",
              " 'amakuru/mu-mahanga/article/isano-y-amateka-intebe-y-ubuyobozi-bw-isi-imbarutso-y-intambara-muri-ukraine']"
            ]
          },
          "metadata": {},
          "execution_count": 24
        }
      ]
    },
    {
      "cell_type": "code",
      "source": [
        "df = pd.DataFrame(list(zip(snapshot_link, title_)), columns=['Prefix', 'Title'])"
      ],
      "metadata": {
        "id": "KfDVPDvdmTV8"
      },
      "id": "KfDVPDvdmTV8",
      "execution_count": null,
      "outputs": []
    },
    {
      "cell_type": "code",
      "source": [
        "dict(zip(snapshot_link, title_))"
      ],
      "metadata": {
        "colab": {
          "base_uri": "https://localhost:8080/"
        },
        "id": "VTSBzSDOw-HH",
        "outputId": "0c2eb675-dcdb-43e9-8c95-64b7be21fe62"
      },
      "id": "VTSBzSDOw-HH",
      "execution_count": null,
      "outputs": [
        {
          "output_type": "execute_result",
          "data": {
            "text/plain": [
              "{'http://web.archive.org/web/20220226095802/https://www.igihe.com/': 'abantu/kubaho/urukundo/article/byiringiro-lague-yahishuye-uko-yamenyanye-n-umugore-we-baherutse-kurushinga',\n",
              " 'http://web.archive.org/web/20220804021237/https://www.igihe.com/': 'abantu/interviews/article/hitabajwe-urwego-rw-umuvunyi-mu-kibazo-cy-ubutaka-abaturage-bagiranye-na',\n",
              " 'http://web.archive.org/web/20220309213527/https://www.igihe.com/': 'abantu/kubaho/urukundo/article/imbuga-nkoranyambaga-umuranga-wagobotse-abadiaspora-bifuza-abakunzi-mu-rwanda',\n",
              " 'http://web.archive.org/web/20220314155120/https://www.igihe.com/': 'abantu/kubaho/urukundo/article/imbuga-nkoranyambaga-umuranga-wagobotse-abadiaspora-bifuza-abakunzi-mu-rwanda',\n",
              " 'http://web.archive.org/web/20220802205340/https://www.igihe.com/': 'abantu/success-stories/article/umwihariko-w-ifumbire-y-umwimerere-ikorwa-mu-isukari-n-umuceri',\n",
              " 'http://web.archive.org/web/20220606004933/https://www.igihe.com/': 'abantu/article/amagambo-adasanzwe-akunze-kuvugwa-nyuma-yo-gutera-akabariro',\n",
              " 'http://web.archive.org/web/20211230050807/http://igihe.com/': 'abantu/article/inkuru-y-urukundo-rwa-umuhoza-na-ndayisaba-wanzwe-n-umuryango-kubera-gukundana',\n",
              " 'http://web.archive.org/web/20220903235251/https://www.igihe.com/': 'abantu/success-stories/article/ibiganza-bibona',\n",
              " 'http://web.archive.org/web/20220201215736/https://www.igihe.com/': 'abantu/kubaho/urukundo/article/rutanga-eric-n-umugore-we-bashyize-hanze-amatariki-mashya-y-ubukwe',\n",
              " 'http://web.archive.org/web/20220309032957/https://igihe.com/': 'abantu/kubaho/article/kubera-iki-abagabo-basigaye-batinya-abagore-bisobanukiwe',\n",
              " 'http://web.archive.org/web/20220501235651/https://www.igihe.com/': 'abantu/success-stories/article/imvano-ya-stafford-coffee-shop-yazamuye-igikundiro-cy-ikawa-ku-kamonyi',\n",
              " 'http://web.archive.org/web/20220903000004/https://www.igihe.com/': 'abantu/success-stories/article/ibiganza-bibona',\n",
              " 'http://web.archive.org/web/20220901235955/https://www.igihe.com/': 'abantu/success-stories/article/ibiganza-bibona',\n",
              " 'http://web.archive.org/web/20220602000906/https://www.igihe.com/': 'abantu/article/muganga-eric-mu-nshingano-zo-kuzamura-imikorere-muri-radisson-blu-i-niamey',\n",
              " 'http://web.archive.org/web/20220310111817/https://www.igihe.com/': 'abantu/kubaho/urukundo/article/imbuga-nkoranyambaga-umuranga-wagobotse-abadiaspora-bifuza-abakunzi-mu-rwanda',\n",
              " 'http://web.archive.org/web/20220701232247/https://www.igihe.com/': 'abantu/article/ubuhamya-bw-uburyo-chaeli-mycroft-yanze-gucibwa-intege-n-ubumuga-bwamufashe',\n",
              " 'http://web.archive.org/web/20220202235221/https://www.igihe.com/': 'abantu/kubaho/urukundo/article/rutanga-eric-n-umugore-we-bashyize-hanze-amatariki-mashya-y-ubukwe',\n",
              " 'http://web.archive.org/web/20220802050311/https://www.igihe.com/': 'abantu/kubaho/urukundo/article/inama-zagufasha-kubaka-urukundo-ruhamye',\n",
              " 'http://web.archive.org/web/20220904235947/https://www.igihe.com/': 'abantu/success-stories/article/iduka-ry-umuhinzi-amafaranga-y-izabukuru-ku-banyamuryango-tumwe-mu-dushya-twa',\n",
              " 'http://web.archive.org/web/20220603235711/https://www.igihe.com/': 'abantu/kubaho/urukundo/article/yifashishije-imitoma-myinsi-bahati-grace-yifurije-isabukuru-nziza-umugabo-we',\n",
              " 'http://web.archive.org/web/20220603005738/https://www.igihe.com/': 'abantu/article/muganga-eric-mu-nshingano-zo-kuzamura-imikorere-muri-radisson-blu-i-niamey',\n",
              " 'http://web.archive.org/web/20220922110847/https://igihe.com/': 'abantu/article/abafite-imishinga-y-ikoranabuhanga-batangiye-kwiyandikisha-mu-irushanwa-hanga',\n",
              " 'http://web.archive.org/web/20220604235714/https://www.igihe.com/': 'abantu/kubaho/urukundo/article/yifashishije-imitoma-myinsi-bahati-grace-yifurije-isabukuru-nziza-umugabo-we'}"
            ]
          },
          "metadata": {},
          "execution_count": 26
        }
      ]
    },
    {
      "cell_type": "code",
      "source": [
        "df.describe()"
      ],
      "metadata": {
        "colab": {
          "base_uri": "https://localhost:8080/",
          "height": 175
        },
        "id": "OYwzOppmoWWy",
        "outputId": "efac07a4-75c1-4e26-cfc4-515fa25d16f7"
      },
      "id": "OYwzOppmoWWy",
      "execution_count": null,
      "outputs": [
        {
          "output_type": "execute_result",
          "data": {
            "text/plain": [
              "                                                   Prefix  \\\n",
              "count                                                1679   \n",
              "unique                                                 23   \n",
              "top     http://web.archive.org/web/20220226095802/http...   \n",
              "freq                                                   73   \n",
              "\n",
              "                                                    Title  \n",
              "count                                                1679  \n",
              "unique                                               1216  \n",
              "top     ikoranabuhanga/article/ricta-yatangije-ipaki-y...  \n",
              "freq                                                    6  "
            ],
            "text/html": [
              "\n",
              "  <div id=\"df-00843d16-3705-4284-bd2a-66b36118a620\">\n",
              "    <div class=\"colab-df-container\">\n",
              "      <div>\n",
              "<style scoped>\n",
              "    .dataframe tbody tr th:only-of-type {\n",
              "        vertical-align: middle;\n",
              "    }\n",
              "\n",
              "    .dataframe tbody tr th {\n",
              "        vertical-align: top;\n",
              "    }\n",
              "\n",
              "    .dataframe thead th {\n",
              "        text-align: right;\n",
              "    }\n",
              "</style>\n",
              "<table border=\"1\" class=\"dataframe\">\n",
              "  <thead>\n",
              "    <tr style=\"text-align: right;\">\n",
              "      <th></th>\n",
              "      <th>Prefix</th>\n",
              "      <th>Title</th>\n",
              "    </tr>\n",
              "  </thead>\n",
              "  <tbody>\n",
              "    <tr>\n",
              "      <th>count</th>\n",
              "      <td>1679</td>\n",
              "      <td>1679</td>\n",
              "    </tr>\n",
              "    <tr>\n",
              "      <th>unique</th>\n",
              "      <td>23</td>\n",
              "      <td>1216</td>\n",
              "    </tr>\n",
              "    <tr>\n",
              "      <th>top</th>\n",
              "      <td>http://web.archive.org/web/20220226095802/http...</td>\n",
              "      <td>ikoranabuhanga/article/ricta-yatangije-ipaki-y...</td>\n",
              "    </tr>\n",
              "    <tr>\n",
              "      <th>freq</th>\n",
              "      <td>73</td>\n",
              "      <td>6</td>\n",
              "    </tr>\n",
              "  </tbody>\n",
              "</table>\n",
              "</div>\n",
              "      <button class=\"colab-df-convert\" onclick=\"convertToInteractive('df-00843d16-3705-4284-bd2a-66b36118a620')\"\n",
              "              title=\"Convert this dataframe to an interactive table.\"\n",
              "              style=\"display:none;\">\n",
              "        \n",
              "  <svg xmlns=\"http://www.w3.org/2000/svg\" height=\"24px\"viewBox=\"0 0 24 24\"\n",
              "       width=\"24px\">\n",
              "    <path d=\"M0 0h24v24H0V0z\" fill=\"none\"/>\n",
              "    <path d=\"M18.56 5.44l.94 2.06.94-2.06 2.06-.94-2.06-.94-.94-2.06-.94 2.06-2.06.94zm-11 1L8.5 8.5l.94-2.06 2.06-.94-2.06-.94L8.5 2.5l-.94 2.06-2.06.94zm10 10l.94 2.06.94-2.06 2.06-.94-2.06-.94-.94-2.06-.94 2.06-2.06.94z\"/><path d=\"M17.41 7.96l-1.37-1.37c-.4-.4-.92-.59-1.43-.59-.52 0-1.04.2-1.43.59L10.3 9.45l-7.72 7.72c-.78.78-.78 2.05 0 2.83L4 21.41c.39.39.9.59 1.41.59.51 0 1.02-.2 1.41-.59l7.78-7.78 2.81-2.81c.8-.78.8-2.07 0-2.86zM5.41 20L4 18.59l7.72-7.72 1.47 1.35L5.41 20z\"/>\n",
              "  </svg>\n",
              "      </button>\n",
              "      \n",
              "  <style>\n",
              "    .colab-df-container {\n",
              "      display:flex;\n",
              "      flex-wrap:wrap;\n",
              "      gap: 12px;\n",
              "    }\n",
              "\n",
              "    .colab-df-convert {\n",
              "      background-color: #E8F0FE;\n",
              "      border: none;\n",
              "      border-radius: 50%;\n",
              "      cursor: pointer;\n",
              "      display: none;\n",
              "      fill: #1967D2;\n",
              "      height: 32px;\n",
              "      padding: 0 0 0 0;\n",
              "      width: 32px;\n",
              "    }\n",
              "\n",
              "    .colab-df-convert:hover {\n",
              "      background-color: #E2EBFA;\n",
              "      box-shadow: 0px 1px 2px rgba(60, 64, 67, 0.3), 0px 1px 3px 1px rgba(60, 64, 67, 0.15);\n",
              "      fill: #174EA6;\n",
              "    }\n",
              "\n",
              "    [theme=dark] .colab-df-convert {\n",
              "      background-color: #3B4455;\n",
              "      fill: #D2E3FC;\n",
              "    }\n",
              "\n",
              "    [theme=dark] .colab-df-convert:hover {\n",
              "      background-color: #434B5C;\n",
              "      box-shadow: 0px 1px 3px 1px rgba(0, 0, 0, 0.15);\n",
              "      filter: drop-shadow(0px 1px 2px rgba(0, 0, 0, 0.3));\n",
              "      fill: #FFFFFF;\n",
              "    }\n",
              "  </style>\n",
              "\n",
              "      <script>\n",
              "        const buttonEl =\n",
              "          document.querySelector('#df-00843d16-3705-4284-bd2a-66b36118a620 button.colab-df-convert');\n",
              "        buttonEl.style.display =\n",
              "          google.colab.kernel.accessAllowed ? 'block' : 'none';\n",
              "\n",
              "        async function convertToInteractive(key) {\n",
              "          const element = document.querySelector('#df-00843d16-3705-4284-bd2a-66b36118a620');\n",
              "          const dataTable =\n",
              "            await google.colab.kernel.invokeFunction('convertToInteractive',\n",
              "                                                     [key], {});\n",
              "          if (!dataTable) return;\n",
              "\n",
              "          const docLinkHtml = 'Like what you see? Visit the ' +\n",
              "            '<a target=\"_blank\" href=https://colab.research.google.com/notebooks/data_table.ipynb>data table notebook</a>'\n",
              "            + ' to learn more about interactive tables.';\n",
              "          element.innerHTML = '';\n",
              "          dataTable['output_type'] = 'display_data';\n",
              "          await google.colab.output.renderOutput(dataTable, element);\n",
              "          const docLink = document.createElement('div');\n",
              "          docLink.innerHTML = docLinkHtml;\n",
              "          element.appendChild(docLink);\n",
              "        }\n",
              "      </script>\n",
              "    </div>\n",
              "  </div>\n",
              "  "
            ]
          },
          "metadata": {},
          "execution_count": 28
        }
      ]
    },
    {
      "cell_type": "code",
      "source": [
        "df.head(10)"
      ],
      "metadata": {
        "colab": {
          "base_uri": "https://localhost:8080/",
          "height": 363
        },
        "id": "ZqZO4esonD7w",
        "outputId": "b419ce99-61b0-4f20-9c91-eeadbc672170"
      },
      "id": "ZqZO4esonD7w",
      "execution_count": null,
      "outputs": [
        {
          "output_type": "execute_result",
          "data": {
            "text/plain": [
              "                                              Prefix  \\\n",
              "0  http://web.archive.org/web/20220504005827/http...   \n",
              "1  http://web.archive.org/web/20220504005827/http...   \n",
              "2  http://web.archive.org/web/20220504005827/http...   \n",
              "3  http://web.archive.org/web/20220504005827/http...   \n",
              "4  http://web.archive.org/web/20220504005827/http...   \n",
              "5  http://web.archive.org/web/20220504005827/http...   \n",
              "6  http://web.archive.org/web/20220504005827/http...   \n",
              "7  http://web.archive.org/web/20220504005827/http...   \n",
              "8  http://web.archive.org/web/20220504005827/http...   \n",
              "9  http://web.archive.org/web/20220504005827/http...   \n",
              "\n",
              "                                               Title  \n",
              "0  imyidagaduro/article/briana-wakanyujijeho-mu-r...  \n",
              "1  amakuru/u-rwanda/article/hatangajwe-impamvu-y-...  \n",
              "2  imyidagaduro/article/dj-uncle-waffles-uri-mu-b...  \n",
              "3  twinigure/ubibona-ute/article/ese-demokarasi-n...  \n",
              "4  amakuru/mu-mahanga/article/inyungu-ya-pfizer-y...  \n",
              "5  imikino/football/article/rayon-sports-na-as-ki...  \n",
              "6  amakuru/utuntu-n-utundi/article/u-bwongereza-i...  \n",
              "7  imikino/indi-mikino/article/nyarugenge-izakira...  \n",
              "8  amakuru/u-rwanda/article/huye-abarokotse-basab...  \n",
              "9  imyidagaduro/article/marina-yasusurukije-abita...  "
            ],
            "text/html": [
              "\n",
              "  <div id=\"df-8fe277cd-91b7-4869-ad51-5be7d3e53abf\">\n",
              "    <div class=\"colab-df-container\">\n",
              "      <div>\n",
              "<style scoped>\n",
              "    .dataframe tbody tr th:only-of-type {\n",
              "        vertical-align: middle;\n",
              "    }\n",
              "\n",
              "    .dataframe tbody tr th {\n",
              "        vertical-align: top;\n",
              "    }\n",
              "\n",
              "    .dataframe thead th {\n",
              "        text-align: right;\n",
              "    }\n",
              "</style>\n",
              "<table border=\"1\" class=\"dataframe\">\n",
              "  <thead>\n",
              "    <tr style=\"text-align: right;\">\n",
              "      <th></th>\n",
              "      <th>Prefix</th>\n",
              "      <th>Title</th>\n",
              "    </tr>\n",
              "  </thead>\n",
              "  <tbody>\n",
              "    <tr>\n",
              "      <th>0</th>\n",
              "      <td>http://web.archive.org/web/20220504005827/http...</td>\n",
              "      <td>imyidagaduro/article/briana-wakanyujijeho-mu-r...</td>\n",
              "    </tr>\n",
              "    <tr>\n",
              "      <th>1</th>\n",
              "      <td>http://web.archive.org/web/20220504005827/http...</td>\n",
              "      <td>amakuru/u-rwanda/article/hatangajwe-impamvu-y-...</td>\n",
              "    </tr>\n",
              "    <tr>\n",
              "      <th>2</th>\n",
              "      <td>http://web.archive.org/web/20220504005827/http...</td>\n",
              "      <td>imyidagaduro/article/dj-uncle-waffles-uri-mu-b...</td>\n",
              "    </tr>\n",
              "    <tr>\n",
              "      <th>3</th>\n",
              "      <td>http://web.archive.org/web/20220504005827/http...</td>\n",
              "      <td>twinigure/ubibona-ute/article/ese-demokarasi-n...</td>\n",
              "    </tr>\n",
              "    <tr>\n",
              "      <th>4</th>\n",
              "      <td>http://web.archive.org/web/20220504005827/http...</td>\n",
              "      <td>amakuru/mu-mahanga/article/inyungu-ya-pfizer-y...</td>\n",
              "    </tr>\n",
              "    <tr>\n",
              "      <th>5</th>\n",
              "      <td>http://web.archive.org/web/20220504005827/http...</td>\n",
              "      <td>imikino/football/article/rayon-sports-na-as-ki...</td>\n",
              "    </tr>\n",
              "    <tr>\n",
              "      <th>6</th>\n",
              "      <td>http://web.archive.org/web/20220504005827/http...</td>\n",
              "      <td>amakuru/utuntu-n-utundi/article/u-bwongereza-i...</td>\n",
              "    </tr>\n",
              "    <tr>\n",
              "      <th>7</th>\n",
              "      <td>http://web.archive.org/web/20220504005827/http...</td>\n",
              "      <td>imikino/indi-mikino/article/nyarugenge-izakira...</td>\n",
              "    </tr>\n",
              "    <tr>\n",
              "      <th>8</th>\n",
              "      <td>http://web.archive.org/web/20220504005827/http...</td>\n",
              "      <td>amakuru/u-rwanda/article/huye-abarokotse-basab...</td>\n",
              "    </tr>\n",
              "    <tr>\n",
              "      <th>9</th>\n",
              "      <td>http://web.archive.org/web/20220504005827/http...</td>\n",
              "      <td>imyidagaduro/article/marina-yasusurukije-abita...</td>\n",
              "    </tr>\n",
              "  </tbody>\n",
              "</table>\n",
              "</div>\n",
              "      <button class=\"colab-df-convert\" onclick=\"convertToInteractive('df-8fe277cd-91b7-4869-ad51-5be7d3e53abf')\"\n",
              "              title=\"Convert this dataframe to an interactive table.\"\n",
              "              style=\"display:none;\">\n",
              "        \n",
              "  <svg xmlns=\"http://www.w3.org/2000/svg\" height=\"24px\"viewBox=\"0 0 24 24\"\n",
              "       width=\"24px\">\n",
              "    <path d=\"M0 0h24v24H0V0z\" fill=\"none\"/>\n",
              "    <path d=\"M18.56 5.44l.94 2.06.94-2.06 2.06-.94-2.06-.94-.94-2.06-.94 2.06-2.06.94zm-11 1L8.5 8.5l.94-2.06 2.06-.94-2.06-.94L8.5 2.5l-.94 2.06-2.06.94zm10 10l.94 2.06.94-2.06 2.06-.94-2.06-.94-.94-2.06-.94 2.06-2.06.94z\"/><path d=\"M17.41 7.96l-1.37-1.37c-.4-.4-.92-.59-1.43-.59-.52 0-1.04.2-1.43.59L10.3 9.45l-7.72 7.72c-.78.78-.78 2.05 0 2.83L4 21.41c.39.39.9.59 1.41.59.51 0 1.02-.2 1.41-.59l7.78-7.78 2.81-2.81c.8-.78.8-2.07 0-2.86zM5.41 20L4 18.59l7.72-7.72 1.47 1.35L5.41 20z\"/>\n",
              "  </svg>\n",
              "      </button>\n",
              "      \n",
              "  <style>\n",
              "    .colab-df-container {\n",
              "      display:flex;\n",
              "      flex-wrap:wrap;\n",
              "      gap: 12px;\n",
              "    }\n",
              "\n",
              "    .colab-df-convert {\n",
              "      background-color: #E8F0FE;\n",
              "      border: none;\n",
              "      border-radius: 50%;\n",
              "      cursor: pointer;\n",
              "      display: none;\n",
              "      fill: #1967D2;\n",
              "      height: 32px;\n",
              "      padding: 0 0 0 0;\n",
              "      width: 32px;\n",
              "    }\n",
              "\n",
              "    .colab-df-convert:hover {\n",
              "      background-color: #E2EBFA;\n",
              "      box-shadow: 0px 1px 2px rgba(60, 64, 67, 0.3), 0px 1px 3px 1px rgba(60, 64, 67, 0.15);\n",
              "      fill: #174EA6;\n",
              "    }\n",
              "\n",
              "    [theme=dark] .colab-df-convert {\n",
              "      background-color: #3B4455;\n",
              "      fill: #D2E3FC;\n",
              "    }\n",
              "\n",
              "    [theme=dark] .colab-df-convert:hover {\n",
              "      background-color: #434B5C;\n",
              "      box-shadow: 0px 1px 3px 1px rgba(0, 0, 0, 0.15);\n",
              "      filter: drop-shadow(0px 1px 2px rgba(0, 0, 0, 0.3));\n",
              "      fill: #FFFFFF;\n",
              "    }\n",
              "  </style>\n",
              "\n",
              "      <script>\n",
              "        const buttonEl =\n",
              "          document.querySelector('#df-8fe277cd-91b7-4869-ad51-5be7d3e53abf button.colab-df-convert');\n",
              "        buttonEl.style.display =\n",
              "          google.colab.kernel.accessAllowed ? 'block' : 'none';\n",
              "\n",
              "        async function convertToInteractive(key) {\n",
              "          const element = document.querySelector('#df-8fe277cd-91b7-4869-ad51-5be7d3e53abf');\n",
              "          const dataTable =\n",
              "            await google.colab.kernel.invokeFunction('convertToInteractive',\n",
              "                                                     [key], {});\n",
              "          if (!dataTable) return;\n",
              "\n",
              "          const docLinkHtml = 'Like what you see? Visit the ' +\n",
              "            '<a target=\"_blank\" href=https://colab.research.google.com/notebooks/data_table.ipynb>data table notebook</a>'\n",
              "            + ' to learn more about interactive tables.';\n",
              "          element.innerHTML = '';\n",
              "          dataTable['output_type'] = 'display_data';\n",
              "          await google.colab.output.renderOutput(dataTable, element);\n",
              "          const docLink = document.createElement('div');\n",
              "          docLink.innerHTML = docLinkHtml;\n",
              "          element.appendChild(docLink);\n",
              "        }\n",
              "      </script>\n",
              "    </div>\n",
              "  </div>\n",
              "  "
            ]
          },
          "metadata": {},
          "execution_count": 72
        }
      ]
    },
    {
      "cell_type": "code",
      "source": [
        "df.drop_duplicates(['Title'])"
      ],
      "metadata": {
        "colab": {
          "base_uri": "https://localhost:8080/",
          "height": 424
        },
        "id": "8IWxbIV7oVGz",
        "outputId": "3c3f315f-c0a1-42d1-dcdd-539ba045bbef"
      },
      "id": "8IWxbIV7oVGz",
      "execution_count": null,
      "outputs": [
        {
          "output_type": "execute_result",
          "data": {
            "text/plain": [
              "                                                 Prefix  \\\n",
              "0     http://web.archive.org/web/20220226095802/http...   \n",
              "1     http://web.archive.org/web/20220226095802/http...   \n",
              "2     http://web.archive.org/web/20220226095802/http...   \n",
              "3     http://web.archive.org/web/20220226095802/http...   \n",
              "4     http://web.archive.org/web/20220226095802/http...   \n",
              "...                                                 ...   \n",
              "1652  http://web.archive.org/web/20220604235714/http...   \n",
              "1656  http://web.archive.org/web/20220604235714/http...   \n",
              "1660  http://web.archive.org/web/20220604235714/http...   \n",
              "1664  http://web.archive.org/web/20220604235714/http...   \n",
              "1668  http://web.archive.org/web/20220604235714/http...   \n",
              "\n",
              "                                                  Title  \n",
              "0     amakuru/mu-mahanga/article/perezida-wa-ukraine...  \n",
              "1     imyidagaduro/muzika/article/ibihembo-bya-isang...  \n",
              "2     amakuru/u-rwanda/article/imvura-izakomeza-kugw...  \n",
              "3     imyidagaduro/article/miss-rwanda-uko-byari-byi...  \n",
              "4     amakuru/mu-mahanga/article/isano-y-amateka-int...  \n",
              "...                                                 ...  \n",
              "1652  amakuru/mu-mahanga/article/u-burusiya-bwenda-k...  \n",
              "1656  amakuru/u-rwanda/article/umugabo-yatemye-mushi...  \n",
              "1660  abantu/kubaho/urukundo/article/ubucuruzi-mu-ru...  \n",
              "1664  amakuru/u-rwanda/article/gatsata-abajura-biciy...  \n",
              "1668  ubukungu/article/mu-rwanda-impunzi-zigiye-koro...  \n",
              "\n",
              "[1216 rows x 2 columns]"
            ],
            "text/html": [
              "\n",
              "  <div id=\"df-cd0cc1b8-02e5-462f-ab5b-a7a0c9883eea\">\n",
              "    <div class=\"colab-df-container\">\n",
              "      <div>\n",
              "<style scoped>\n",
              "    .dataframe tbody tr th:only-of-type {\n",
              "        vertical-align: middle;\n",
              "    }\n",
              "\n",
              "    .dataframe tbody tr th {\n",
              "        vertical-align: top;\n",
              "    }\n",
              "\n",
              "    .dataframe thead th {\n",
              "        text-align: right;\n",
              "    }\n",
              "</style>\n",
              "<table border=\"1\" class=\"dataframe\">\n",
              "  <thead>\n",
              "    <tr style=\"text-align: right;\">\n",
              "      <th></th>\n",
              "      <th>Prefix</th>\n",
              "      <th>Title</th>\n",
              "    </tr>\n",
              "  </thead>\n",
              "  <tbody>\n",
              "    <tr>\n",
              "      <th>0</th>\n",
              "      <td>http://web.archive.org/web/20220226095802/http...</td>\n",
              "      <td>amakuru/mu-mahanga/article/perezida-wa-ukraine...</td>\n",
              "    </tr>\n",
              "    <tr>\n",
              "      <th>1</th>\n",
              "      <td>http://web.archive.org/web/20220226095802/http...</td>\n",
              "      <td>imyidagaduro/muzika/article/ibihembo-bya-isang...</td>\n",
              "    </tr>\n",
              "    <tr>\n",
              "      <th>2</th>\n",
              "      <td>http://web.archive.org/web/20220226095802/http...</td>\n",
              "      <td>amakuru/u-rwanda/article/imvura-izakomeza-kugw...</td>\n",
              "    </tr>\n",
              "    <tr>\n",
              "      <th>3</th>\n",
              "      <td>http://web.archive.org/web/20220226095802/http...</td>\n",
              "      <td>imyidagaduro/article/miss-rwanda-uko-byari-byi...</td>\n",
              "    </tr>\n",
              "    <tr>\n",
              "      <th>4</th>\n",
              "      <td>http://web.archive.org/web/20220226095802/http...</td>\n",
              "      <td>amakuru/mu-mahanga/article/isano-y-amateka-int...</td>\n",
              "    </tr>\n",
              "    <tr>\n",
              "      <th>...</th>\n",
              "      <td>...</td>\n",
              "      <td>...</td>\n",
              "    </tr>\n",
              "    <tr>\n",
              "      <th>1652</th>\n",
              "      <td>http://web.archive.org/web/20220604235714/http...</td>\n",
              "      <td>amakuru/mu-mahanga/article/u-burusiya-bwenda-k...</td>\n",
              "    </tr>\n",
              "    <tr>\n",
              "      <th>1656</th>\n",
              "      <td>http://web.archive.org/web/20220604235714/http...</td>\n",
              "      <td>amakuru/u-rwanda/article/umugabo-yatemye-mushi...</td>\n",
              "    </tr>\n",
              "    <tr>\n",
              "      <th>1660</th>\n",
              "      <td>http://web.archive.org/web/20220604235714/http...</td>\n",
              "      <td>abantu/kubaho/urukundo/article/ubucuruzi-mu-ru...</td>\n",
              "    </tr>\n",
              "    <tr>\n",
              "      <th>1664</th>\n",
              "      <td>http://web.archive.org/web/20220604235714/http...</td>\n",
              "      <td>amakuru/u-rwanda/article/gatsata-abajura-biciy...</td>\n",
              "    </tr>\n",
              "    <tr>\n",
              "      <th>1668</th>\n",
              "      <td>http://web.archive.org/web/20220604235714/http...</td>\n",
              "      <td>ubukungu/article/mu-rwanda-impunzi-zigiye-koro...</td>\n",
              "    </tr>\n",
              "  </tbody>\n",
              "</table>\n",
              "<p>1216 rows × 2 columns</p>\n",
              "</div>\n",
              "      <button class=\"colab-df-convert\" onclick=\"convertToInteractive('df-cd0cc1b8-02e5-462f-ab5b-a7a0c9883eea')\"\n",
              "              title=\"Convert this dataframe to an interactive table.\"\n",
              "              style=\"display:none;\">\n",
              "        \n",
              "  <svg xmlns=\"http://www.w3.org/2000/svg\" height=\"24px\"viewBox=\"0 0 24 24\"\n",
              "       width=\"24px\">\n",
              "    <path d=\"M0 0h24v24H0V0z\" fill=\"none\"/>\n",
              "    <path d=\"M18.56 5.44l.94 2.06.94-2.06 2.06-.94-2.06-.94-.94-2.06-.94 2.06-2.06.94zm-11 1L8.5 8.5l.94-2.06 2.06-.94-2.06-.94L8.5 2.5l-.94 2.06-2.06.94zm10 10l.94 2.06.94-2.06 2.06-.94-2.06-.94-.94-2.06-.94 2.06-2.06.94z\"/><path d=\"M17.41 7.96l-1.37-1.37c-.4-.4-.92-.59-1.43-.59-.52 0-1.04.2-1.43.59L10.3 9.45l-7.72 7.72c-.78.78-.78 2.05 0 2.83L4 21.41c.39.39.9.59 1.41.59.51 0 1.02-.2 1.41-.59l7.78-7.78 2.81-2.81c.8-.78.8-2.07 0-2.86zM5.41 20L4 18.59l7.72-7.72 1.47 1.35L5.41 20z\"/>\n",
              "  </svg>\n",
              "      </button>\n",
              "      \n",
              "  <style>\n",
              "    .colab-df-container {\n",
              "      display:flex;\n",
              "      flex-wrap:wrap;\n",
              "      gap: 12px;\n",
              "    }\n",
              "\n",
              "    .colab-df-convert {\n",
              "      background-color: #E8F0FE;\n",
              "      border: none;\n",
              "      border-radius: 50%;\n",
              "      cursor: pointer;\n",
              "      display: none;\n",
              "      fill: #1967D2;\n",
              "      height: 32px;\n",
              "      padding: 0 0 0 0;\n",
              "      width: 32px;\n",
              "    }\n",
              "\n",
              "    .colab-df-convert:hover {\n",
              "      background-color: #E2EBFA;\n",
              "      box-shadow: 0px 1px 2px rgba(60, 64, 67, 0.3), 0px 1px 3px 1px rgba(60, 64, 67, 0.15);\n",
              "      fill: #174EA6;\n",
              "    }\n",
              "\n",
              "    [theme=dark] .colab-df-convert {\n",
              "      background-color: #3B4455;\n",
              "      fill: #D2E3FC;\n",
              "    }\n",
              "\n",
              "    [theme=dark] .colab-df-convert:hover {\n",
              "      background-color: #434B5C;\n",
              "      box-shadow: 0px 1px 3px 1px rgba(0, 0, 0, 0.15);\n",
              "      filter: drop-shadow(0px 1px 2px rgba(0, 0, 0, 0.3));\n",
              "      fill: #FFFFFF;\n",
              "    }\n",
              "  </style>\n",
              "\n",
              "      <script>\n",
              "        const buttonEl =\n",
              "          document.querySelector('#df-cd0cc1b8-02e5-462f-ab5b-a7a0c9883eea button.colab-df-convert');\n",
              "        buttonEl.style.display =\n",
              "          google.colab.kernel.accessAllowed ? 'block' : 'none';\n",
              "\n",
              "        async function convertToInteractive(key) {\n",
              "          const element = document.querySelector('#df-cd0cc1b8-02e5-462f-ab5b-a7a0c9883eea');\n",
              "          const dataTable =\n",
              "            await google.colab.kernel.invokeFunction('convertToInteractive',\n",
              "                                                     [key], {});\n",
              "          if (!dataTable) return;\n",
              "\n",
              "          const docLinkHtml = 'Like what you see? Visit the ' +\n",
              "            '<a target=\"_blank\" href=https://colab.research.google.com/notebooks/data_table.ipynb>data table notebook</a>'\n",
              "            + ' to learn more about interactive tables.';\n",
              "          element.innerHTML = '';\n",
              "          dataTable['output_type'] = 'display_data';\n",
              "          await google.colab.output.renderOutput(dataTable, element);\n",
              "          const docLink = document.createElement('div');\n",
              "          docLink.innerHTML = docLinkHtml;\n",
              "          element.appendChild(docLink);\n",
              "        }\n",
              "      </script>\n",
              "    </div>\n",
              "  </div>\n",
              "  "
            ]
          },
          "metadata": {},
          "execution_count": 30
        }
      ]
    },
    {
      "cell_type": "code",
      "source": [
        "link = df['Prefix'][0] + df['Title'][0]\n",
        "\n",
        "content = requests.get(link).content\n",
        "\n",
        "raw_content = BeautifulSoup(content, 'html.parser')\n"
      ],
      "metadata": {
        "id": "ysu73N6crER1"
      },
      "id": "ysu73N6crER1",
      "execution_count": null,
      "outputs": []
    },
    {
      "cell_type": "code",
      "source": [
        "body = raw_content.find_all('div', class_=\"fulltext margintop10\") \n",
        "\n",
        "text = ''\n",
        "par_ = BeautifulSoup(str(body)).find_all('p')\n",
        "\n",
        "for line in par_:\n",
        "  text = text + '\\n' + line.get_text()\n"
      ],
      "metadata": {
        "id": "LB43n07ir1Bp"
      },
      "id": "LB43n07ir1Bp",
      "execution_count": null,
      "outputs": []
    },
    {
      "cell_type": "code",
      "source": [
        "def get_text(link):\n",
        "  content = requests.get(link).content\n",
        "  raw_content = BeautifulSoup(content, 'html.parser')\n",
        "\n",
        "  body = raw_content.find_all('div', class_=\"fulltext margintop10\") \n",
        "\n",
        "  text = ''\n",
        "  par_ = BeautifulSoup(str(body)).find_all('p')\n",
        "\n",
        "  for line in par_:\n",
        "    text = text + '\\n' + line.get_text()\n"
      ],
      "metadata": {
        "colab": {
          "base_uri": "https://localhost:8080/",
          "height": 105
        },
        "id": "gV6Akgg8rpA4",
        "outputId": "e38e0c65-1235-4ba0-e1e7-889d32a3d394"
      },
      "id": "gV6Akgg8rpA4",
      "execution_count": null,
      "outputs": [
        {
          "output_type": "execute_result",
          "data": {
            "text/plain": [
              "'\\n[\\nIbinyamakuru bitandukanye byo muri Amerika byavuze ko Zelensky yijejwe ko ashobora gufashwa kuva mu gihugu akerekeza muri Amerika.\\nZelensky yanze ubwo bufasha avuga ko adakeneye guhunga ahubwo akeneye intwaro zo kwivuna umwanzi. Ati “Urugamba ruri hano. Nkeneye intwaro aho kuba lifuti.”\\nInzego z’ubutasi muri Amerika nizo zatanze amakuru y’uko Perezida wa Ukraine yanze ubuhungiro yemerewe na Amerika.\\nThe Washington Post yatangaje ko ifite amakuru yahawe n’abayobozi ba Ukraine n’abo muri Amerika bavuze ko Zelensky yanze ubufasha bwa Amerika bwo guhungishwa.\\nZelensky wahoze ari umukinnyi wa comedie mbere y’uko aba Perezida, yari aherutse gutangaza ko u Burusiya nibumutera, atazasubira inyuma. Ati “Nimudutera, muzabona amasura yacu aho kubona imigongo yacu.”'"
            ],
            "application/vnd.google.colaboratory.intrinsic+json": {
              "type": "string"
            }
          },
          "metadata": {},
          "execution_count": 37
        }
      ]
    },
    {
      "cell_type": "code",
      "source": [
        "def get_article_text(link):\n",
        "  content = requests.get(link).content\n",
        "  body = BeautifulSoup(content, 'html.parser').find_all('div', class_='fulltext margintop10')\n",
        "\n",
        "  text = ''\n",
        "  try:\n",
        "    par_ = BeautifulSoup(str(body)).find_all('p')\n",
        "\n",
        "\n",
        "    for line in par_:\n",
        "      text = text + '\\n' + line.get_text()\n",
        "  except AttributeError:\n",
        "    pass\n",
        "  return text"
      ],
      "metadata": {
        "id": "Oj_Rvlhqo2fE"
      },
      "id": "Oj_Rvlhqo2fE",
      "execution_count": null,
      "outputs": []
    },
    {
      "cell_type": "code",
      "source": [
        "articles = []\n",
        "\n",
        "for index, article in enumerate(df['Title']):\n",
        "  link =df['Prefix'][index]+article\n",
        "  txt = get_article_text(link)\n",
        "  articles.append(txt)\n",
        " "
      ],
      "metadata": {
        "id": "mpKQ56HF4Wrn"
      },
      "id": "mpKQ56HF4Wrn",
      "execution_count": null,
      "outputs": []
    },
    {
      "cell_type": "code",
      "source": [],
      "metadata": {
        "id": "tanHQMEJ9N-7"
      },
      "id": "tanHQMEJ9N-7",
      "execution_count": null,
      "outputs": []
    }
  ],
  "metadata": {
    "kernelspec": {
      "display_name": "Python 3 (ipykernel)",
      "language": "python",
      "name": "python3"
    },
    "language_info": {
      "codemirror_mode": {
        "name": "ipython",
        "version": 3
      },
      "file_extension": ".py",
      "mimetype": "text/x-python",
      "name": "python",
      "nbconvert_exporter": "python",
      "pygments_lexer": "ipython3",
      "version": "3.9.7"
    },
    "colab": {
      "provenance": [],
      "collapsed_sections": [],
      "include_colab_link": true
    }
  },
  "nbformat": 4,
  "nbformat_minor": 5
}